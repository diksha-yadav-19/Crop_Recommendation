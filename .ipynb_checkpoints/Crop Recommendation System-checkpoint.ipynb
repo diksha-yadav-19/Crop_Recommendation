{
 "cells": [
  {
   "cell_type": "code",
   "execution_count": 1,
   "id": "b06fc2e8",
   "metadata": {},
   "outputs": [
    {
     "ename": "ModuleNotFoundError",
     "evalue": "No module named 'pandas'",
     "output_type": "error",
     "traceback": [
      "\u001b[1;31m---------------------------------------------------------------------------\u001b[0m",
      "\u001b[1;31mModuleNotFoundError\u001b[0m                       Traceback (most recent call last)",
      "Cell \u001b[1;32mIn[1], line 1\u001b[0m\n\u001b[1;32m----> 1\u001b[0m \u001b[38;5;28;01mimport\u001b[39;00m \u001b[38;5;21;01mpandas\u001b[39;00m \u001b[38;5;28;01mas\u001b[39;00m \u001b[38;5;21;01mpd\u001b[39;00m\n\u001b[0;32m      2\u001b[0m \u001b[38;5;28;01mimport\u001b[39;00m \u001b[38;5;21;01mnumpy\u001b[39;00m \u001b[38;5;28;01mas\u001b[39;00m \u001b[38;5;21;01mnp\u001b[39;00m\n",
      "\u001b[1;31mModuleNotFoundError\u001b[0m: No module named 'pandas'"
     ]
    }
   ],
   "source": [
    "import pandas as pd\n",
    "import numpy as np\n"
   ]
  },
  {
   "cell_type": "code",
   "execution_count": 3,
   "id": "d4e29feb-d23c-43ce-8292-39576215fc40",
   "metadata": {},
   "outputs": [
    {
     "name": "stdout",
     "output_type": "stream",
     "text": [
      "Requirement already satisfied: pandas in c:\\users\\dell\\appdata\\local\\programs\\python\\python312\\lib\\site-packages (2.2.2)Note: you may need to restart the kernel to use updated packages.\n",
      "\n",
      "Requirement already satisfied: numpy>=1.26.0 in c:\\users\\dell\\appdata\\local\\programs\\python\\python312\\lib\\site-packages (from pandas) (2.0.0)\n",
      "Requirement already satisfied: python-dateutil>=2.8.2 in c:\\users\\dell\\appdata\\local\\programs\\python\\python312\\lib\\site-packages (from pandas) (2.9.0.post0)\n",
      "Requirement already satisfied: pytz>=2020.1 in c:\\users\\dell\\appdata\\local\\programs\\python\\python312\\lib\\site-packages (from pandas) (2024.1)\n",
      "Requirement already satisfied: tzdata>=2022.7 in c:\\users\\dell\\appdata\\local\\programs\\python\\python312\\lib\\site-packages (from pandas) (2024.1)\n",
      "Requirement already satisfied: six>=1.5 in c:\\users\\dell\\appdata\\local\\programs\\python\\python312\\lib\\site-packages (from python-dateutil>=2.8.2->pandas) (1.16.0)\n"
     ]
    }
   ],
   "source": [
    "pip install pandas\n"
   ]
  },
  {
   "cell_type": "code",
   "execution_count": 5,
   "id": "48f27eb2-c7cb-48ca-9c12-e1fc06363a77",
   "metadata": {},
   "outputs": [],
   "source": [
    "import pandas as pd\n",
    "import numpy as np"
   ]
  },
  {
   "cell_type": "code",
   "execution_count": 6,
   "id": "b116c0b6-ef82-49ee-9c48-6851fd400d5e",
   "metadata": {},
   "outputs": [],
   "source": [
    "crop=pd.read_csv(\"Crop_recommendation.csv\")"
   ]
  },
  {
   "cell_type": "code",
   "execution_count": 7,
   "id": "b7fc205e-3e06-4eea-95a8-e2f0f9c27078",
   "metadata": {},
   "outputs": [
    {
     "data": {
      "text/html": [
       "<div>\n",
       "<style scoped>\n",
       "    .dataframe tbody tr th:only-of-type {\n",
       "        vertical-align: middle;\n",
       "    }\n",
       "\n",
       "    .dataframe tbody tr th {\n",
       "        vertical-align: top;\n",
       "    }\n",
       "\n",
       "    .dataframe thead th {\n",
       "        text-align: right;\n",
       "    }\n",
       "</style>\n",
       "<table border=\"1\" class=\"dataframe\">\n",
       "  <thead>\n",
       "    <tr style=\"text-align: right;\">\n",
       "      <th></th>\n",
       "      <th>N</th>\n",
       "      <th>P</th>\n",
       "      <th>K</th>\n",
       "      <th>temperature</th>\n",
       "      <th>humidity</th>\n",
       "      <th>ph</th>\n",
       "      <th>rainfall</th>\n",
       "      <th>label</th>\n",
       "    </tr>\n",
       "  </thead>\n",
       "  <tbody>\n",
       "    <tr>\n",
       "      <th>0</th>\n",
       "      <td>90</td>\n",
       "      <td>42</td>\n",
       "      <td>43</td>\n",
       "      <td>20.879744</td>\n",
       "      <td>82.002744</td>\n",
       "      <td>6.502985</td>\n",
       "      <td>202.935536</td>\n",
       "      <td>rice</td>\n",
       "    </tr>\n",
       "    <tr>\n",
       "      <th>1</th>\n",
       "      <td>85</td>\n",
       "      <td>58</td>\n",
       "      <td>41</td>\n",
       "      <td>21.770462</td>\n",
       "      <td>80.319644</td>\n",
       "      <td>7.038096</td>\n",
       "      <td>226.655537</td>\n",
       "      <td>rice</td>\n",
       "    </tr>\n",
       "    <tr>\n",
       "      <th>2</th>\n",
       "      <td>60</td>\n",
       "      <td>55</td>\n",
       "      <td>44</td>\n",
       "      <td>23.004459</td>\n",
       "      <td>82.320763</td>\n",
       "      <td>7.840207</td>\n",
       "      <td>263.964248</td>\n",
       "      <td>rice</td>\n",
       "    </tr>\n",
       "    <tr>\n",
       "      <th>3</th>\n",
       "      <td>74</td>\n",
       "      <td>35</td>\n",
       "      <td>40</td>\n",
       "      <td>26.491096</td>\n",
       "      <td>80.158363</td>\n",
       "      <td>6.980401</td>\n",
       "      <td>242.864034</td>\n",
       "      <td>rice</td>\n",
       "    </tr>\n",
       "    <tr>\n",
       "      <th>4</th>\n",
       "      <td>78</td>\n",
       "      <td>42</td>\n",
       "      <td>42</td>\n",
       "      <td>20.130175</td>\n",
       "      <td>81.604873</td>\n",
       "      <td>7.628473</td>\n",
       "      <td>262.717340</td>\n",
       "      <td>rice</td>\n",
       "    </tr>\n",
       "  </tbody>\n",
       "</table>\n",
       "</div>"
      ],
      "text/plain": [
       "    N   P   K  temperature   humidity        ph    rainfall label\n",
       "0  90  42  43    20.879744  82.002744  6.502985  202.935536  rice\n",
       "1  85  58  41    21.770462  80.319644  7.038096  226.655537  rice\n",
       "2  60  55  44    23.004459  82.320763  7.840207  263.964248  rice\n",
       "3  74  35  40    26.491096  80.158363  6.980401  242.864034  rice\n",
       "4  78  42  42    20.130175  81.604873  7.628473  262.717340  rice"
      ]
     },
     "execution_count": 7,
     "metadata": {},
     "output_type": "execute_result"
    }
   ],
   "source": [
    "crop.head()"
   ]
  },
  {
   "cell_type": "code",
   "execution_count": 17,
   "id": "c0ed6785-0de1-4cbb-8231-a1c9ff7b9a8f",
   "metadata": {},
   "outputs": [
    {
     "data": {
      "text/plain": [
       "(2200, 8)"
      ]
     },
     "execution_count": 17,
     "metadata": {},
     "output_type": "execute_result"
    }
   ],
   "source": [
    "crop.shape"
   ]
  },
  {
   "cell_type": "code",
   "execution_count": 18,
   "id": "7a5f32b2-1656-4ee1-bcc4-66b5cf3319e5",
   "metadata": {},
   "outputs": [
    {
     "name": "stdout",
     "output_type": "stream",
     "text": [
      "<class 'pandas.core.frame.DataFrame'>\n",
      "RangeIndex: 2200 entries, 0 to 2199\n",
      "Data columns (total 8 columns):\n",
      " #   Column       Non-Null Count  Dtype  \n",
      "---  ------       --------------  -----  \n",
      " 0   N            2200 non-null   int64  \n",
      " 1   P            2200 non-null   int64  \n",
      " 2   K            2200 non-null   int64  \n",
      " 3   temperature  2200 non-null   float64\n",
      " 4   humidity     2200 non-null   float64\n",
      " 5   ph           2200 non-null   float64\n",
      " 6   rainfall     2200 non-null   float64\n",
      " 7   label        2200 non-null   object \n",
      "dtypes: float64(4), int64(3), object(1)\n",
      "memory usage: 137.6+ KB\n"
     ]
    }
   ],
   "source": [
    "crop.info()"
   ]
  },
  {
   "cell_type": "code",
   "execution_count": 10,
   "id": "8246b7bc-6248-4d0f-b526-26206a8bc3f8",
   "metadata": {},
   "outputs": [
    {
     "data": {
      "text/plain": [
       "N              0\n",
       "P              0\n",
       "K              0\n",
       "temperature    0\n",
       "humidity       0\n",
       "ph             0\n",
       "rainfall       0\n",
       "label          0\n",
       "dtype: int64"
      ]
     },
     "execution_count": 10,
     "metadata": {},
     "output_type": "execute_result"
    }
   ],
   "source": [
    "crop.isnull().sum()"
   ]
  },
  {
   "cell_type": "code",
   "execution_count": 11,
   "id": "f1a9f324-686c-4b11-b37e-2a368cda8016",
   "metadata": {},
   "outputs": [
    {
     "data": {
      "text/plain": [
       "np.int64(0)"
      ]
     },
     "execution_count": 11,
     "metadata": {},
     "output_type": "execute_result"
    }
   ],
   "source": [
    "crop.duplicated().sum()"
   ]
  },
  {
   "cell_type": "code",
   "execution_count": 19,
   "id": "dd824475-7288-4ac4-b9a8-e9af19d65ea6",
   "metadata": {},
   "outputs": [
    {
     "data": {
      "text/html": [
       "<div>\n",
       "<style scoped>\n",
       "    .dataframe tbody tr th:only-of-type {\n",
       "        vertical-align: middle;\n",
       "    }\n",
       "\n",
       "    .dataframe tbody tr th {\n",
       "        vertical-align: top;\n",
       "    }\n",
       "\n",
       "    .dataframe thead th {\n",
       "        text-align: right;\n",
       "    }\n",
       "</style>\n",
       "<table border=\"1\" class=\"dataframe\">\n",
       "  <thead>\n",
       "    <tr style=\"text-align: right;\">\n",
       "      <th></th>\n",
       "      <th>N</th>\n",
       "      <th>P</th>\n",
       "      <th>K</th>\n",
       "      <th>temperature</th>\n",
       "      <th>humidity</th>\n",
       "      <th>ph</th>\n",
       "      <th>rainfall</th>\n",
       "    </tr>\n",
       "  </thead>\n",
       "  <tbody>\n",
       "    <tr>\n",
       "      <th>count</th>\n",
       "      <td>2200.000000</td>\n",
       "      <td>2200.000000</td>\n",
       "      <td>2200.000000</td>\n",
       "      <td>2200.000000</td>\n",
       "      <td>2200.000000</td>\n",
       "      <td>2200.000000</td>\n",
       "      <td>2200.000000</td>\n",
       "    </tr>\n",
       "    <tr>\n",
       "      <th>mean</th>\n",
       "      <td>50.551818</td>\n",
       "      <td>53.362727</td>\n",
       "      <td>48.149091</td>\n",
       "      <td>25.616244</td>\n",
       "      <td>71.481779</td>\n",
       "      <td>6.469480</td>\n",
       "      <td>103.463655</td>\n",
       "    </tr>\n",
       "    <tr>\n",
       "      <th>std</th>\n",
       "      <td>36.917334</td>\n",
       "      <td>32.985883</td>\n",
       "      <td>50.647931</td>\n",
       "      <td>5.063749</td>\n",
       "      <td>22.263812</td>\n",
       "      <td>0.773938</td>\n",
       "      <td>54.958389</td>\n",
       "    </tr>\n",
       "    <tr>\n",
       "      <th>min</th>\n",
       "      <td>0.000000</td>\n",
       "      <td>5.000000</td>\n",
       "      <td>5.000000</td>\n",
       "      <td>8.825675</td>\n",
       "      <td>14.258040</td>\n",
       "      <td>3.504752</td>\n",
       "      <td>20.211267</td>\n",
       "    </tr>\n",
       "    <tr>\n",
       "      <th>25%</th>\n",
       "      <td>21.000000</td>\n",
       "      <td>28.000000</td>\n",
       "      <td>20.000000</td>\n",
       "      <td>22.769375</td>\n",
       "      <td>60.261953</td>\n",
       "      <td>5.971693</td>\n",
       "      <td>64.551686</td>\n",
       "    </tr>\n",
       "    <tr>\n",
       "      <th>50%</th>\n",
       "      <td>37.000000</td>\n",
       "      <td>51.000000</td>\n",
       "      <td>32.000000</td>\n",
       "      <td>25.598693</td>\n",
       "      <td>80.473146</td>\n",
       "      <td>6.425045</td>\n",
       "      <td>94.867624</td>\n",
       "    </tr>\n",
       "    <tr>\n",
       "      <th>75%</th>\n",
       "      <td>84.250000</td>\n",
       "      <td>68.000000</td>\n",
       "      <td>49.000000</td>\n",
       "      <td>28.561654</td>\n",
       "      <td>89.948771</td>\n",
       "      <td>6.923643</td>\n",
       "      <td>124.267508</td>\n",
       "    </tr>\n",
       "    <tr>\n",
       "      <th>max</th>\n",
       "      <td>140.000000</td>\n",
       "      <td>145.000000</td>\n",
       "      <td>205.000000</td>\n",
       "      <td>43.675493</td>\n",
       "      <td>99.981876</td>\n",
       "      <td>9.935091</td>\n",
       "      <td>298.560117</td>\n",
       "    </tr>\n",
       "  </tbody>\n",
       "</table>\n",
       "</div>"
      ],
      "text/plain": [
       "                 N            P            K  temperature     humidity  \\\n",
       "count  2200.000000  2200.000000  2200.000000  2200.000000  2200.000000   \n",
       "mean     50.551818    53.362727    48.149091    25.616244    71.481779   \n",
       "std      36.917334    32.985883    50.647931     5.063749    22.263812   \n",
       "min       0.000000     5.000000     5.000000     8.825675    14.258040   \n",
       "25%      21.000000    28.000000    20.000000    22.769375    60.261953   \n",
       "50%      37.000000    51.000000    32.000000    25.598693    80.473146   \n",
       "75%      84.250000    68.000000    49.000000    28.561654    89.948771   \n",
       "max     140.000000   145.000000   205.000000    43.675493    99.981876   \n",
       "\n",
       "                ph     rainfall  \n",
       "count  2200.000000  2200.000000  \n",
       "mean      6.469480   103.463655  \n",
       "std       0.773938    54.958389  \n",
       "min       3.504752    20.211267  \n",
       "25%       5.971693    64.551686  \n",
       "50%       6.425045    94.867624  \n",
       "75%       6.923643   124.267508  \n",
       "max       9.935091   298.560117  "
      ]
     },
     "execution_count": 19,
     "metadata": {},
     "output_type": "execute_result"
    }
   ],
   "source": [
    "crop.describe()"
   ]
  },
  {
   "cell_type": "code",
   "execution_count": 20,
   "id": "3f16c32a-7fb5-4ff1-aab6-1ae5172e7f71",
   "metadata": {},
   "outputs": [
    {
     "ename": "ValueError",
     "evalue": "could not convert string to float: 'rice'",
     "output_type": "error",
     "traceback": [
      "\u001b[1;31m---------------------------------------------------------------------------\u001b[0m",
      "\u001b[1;31mValueError\u001b[0m                                Traceback (most recent call last)",
      "Cell \u001b[1;32mIn[20], line 1\u001b[0m\n\u001b[1;32m----> 1\u001b[0m \u001b[43mcrop\u001b[49m\u001b[38;5;241;43m.\u001b[39;49m\u001b[43mcorr\u001b[49m\u001b[43m(\u001b[49m\u001b[43m)\u001b[49m\n",
      "File \u001b[1;32m~\\AppData\\Local\\Programs\\Python\\Python312\\Lib\\site-packages\\pandas\\core\\frame.py:11049\u001b[0m, in \u001b[0;36mDataFrame.corr\u001b[1;34m(self, method, min_periods, numeric_only)\u001b[0m\n\u001b[0;32m  11047\u001b[0m cols \u001b[38;5;241m=\u001b[39m data\u001b[38;5;241m.\u001b[39mcolumns\n\u001b[0;32m  11048\u001b[0m idx \u001b[38;5;241m=\u001b[39m cols\u001b[38;5;241m.\u001b[39mcopy()\n\u001b[1;32m> 11049\u001b[0m mat \u001b[38;5;241m=\u001b[39m \u001b[43mdata\u001b[49m\u001b[38;5;241;43m.\u001b[39;49m\u001b[43mto_numpy\u001b[49m\u001b[43m(\u001b[49m\u001b[43mdtype\u001b[49m\u001b[38;5;241;43m=\u001b[39;49m\u001b[38;5;28;43mfloat\u001b[39;49m\u001b[43m,\u001b[49m\u001b[43m \u001b[49m\u001b[43mna_value\u001b[49m\u001b[38;5;241;43m=\u001b[39;49m\u001b[43mnp\u001b[49m\u001b[38;5;241;43m.\u001b[39;49m\u001b[43mnan\u001b[49m\u001b[43m,\u001b[49m\u001b[43m \u001b[49m\u001b[43mcopy\u001b[49m\u001b[38;5;241;43m=\u001b[39;49m\u001b[38;5;28;43;01mFalse\u001b[39;49;00m\u001b[43m)\u001b[49m\n\u001b[0;32m  11051\u001b[0m \u001b[38;5;28;01mif\u001b[39;00m method \u001b[38;5;241m==\u001b[39m \u001b[38;5;124m\"\u001b[39m\u001b[38;5;124mpearson\u001b[39m\u001b[38;5;124m\"\u001b[39m:\n\u001b[0;32m  11052\u001b[0m     correl \u001b[38;5;241m=\u001b[39m libalgos\u001b[38;5;241m.\u001b[39mnancorr(mat, minp\u001b[38;5;241m=\u001b[39mmin_periods)\n",
      "File \u001b[1;32m~\\AppData\\Local\\Programs\\Python\\Python312\\Lib\\site-packages\\pandas\\core\\frame.py:1993\u001b[0m, in \u001b[0;36mDataFrame.to_numpy\u001b[1;34m(self, dtype, copy, na_value)\u001b[0m\n\u001b[0;32m   1991\u001b[0m \u001b[38;5;28;01mif\u001b[39;00m dtype \u001b[38;5;129;01mis\u001b[39;00m \u001b[38;5;129;01mnot\u001b[39;00m \u001b[38;5;28;01mNone\u001b[39;00m:\n\u001b[0;32m   1992\u001b[0m     dtype \u001b[38;5;241m=\u001b[39m np\u001b[38;5;241m.\u001b[39mdtype(dtype)\n\u001b[1;32m-> 1993\u001b[0m result \u001b[38;5;241m=\u001b[39m \u001b[38;5;28;43mself\u001b[39;49m\u001b[38;5;241;43m.\u001b[39;49m\u001b[43m_mgr\u001b[49m\u001b[38;5;241;43m.\u001b[39;49m\u001b[43mas_array\u001b[49m\u001b[43m(\u001b[49m\u001b[43mdtype\u001b[49m\u001b[38;5;241;43m=\u001b[39;49m\u001b[43mdtype\u001b[49m\u001b[43m,\u001b[49m\u001b[43m \u001b[49m\u001b[43mcopy\u001b[49m\u001b[38;5;241;43m=\u001b[39;49m\u001b[43mcopy\u001b[49m\u001b[43m,\u001b[49m\u001b[43m \u001b[49m\u001b[43mna_value\u001b[49m\u001b[38;5;241;43m=\u001b[39;49m\u001b[43mna_value\u001b[49m\u001b[43m)\u001b[49m\n\u001b[0;32m   1994\u001b[0m \u001b[38;5;28;01mif\u001b[39;00m result\u001b[38;5;241m.\u001b[39mdtype \u001b[38;5;129;01mis\u001b[39;00m \u001b[38;5;129;01mnot\u001b[39;00m dtype:\n\u001b[0;32m   1995\u001b[0m     result \u001b[38;5;241m=\u001b[39m np\u001b[38;5;241m.\u001b[39masarray(result, dtype\u001b[38;5;241m=\u001b[39mdtype)\n",
      "File \u001b[1;32m~\\AppData\\Local\\Programs\\Python\\Python312\\Lib\\site-packages\\pandas\\core\\internals\\managers.py:1694\u001b[0m, in \u001b[0;36mBlockManager.as_array\u001b[1;34m(self, dtype, copy, na_value)\u001b[0m\n\u001b[0;32m   1692\u001b[0m         arr\u001b[38;5;241m.\u001b[39mflags\u001b[38;5;241m.\u001b[39mwriteable \u001b[38;5;241m=\u001b[39m \u001b[38;5;28;01mFalse\u001b[39;00m\n\u001b[0;32m   1693\u001b[0m \u001b[38;5;28;01melse\u001b[39;00m:\n\u001b[1;32m-> 1694\u001b[0m     arr \u001b[38;5;241m=\u001b[39m \u001b[38;5;28;43mself\u001b[39;49m\u001b[38;5;241;43m.\u001b[39;49m\u001b[43m_interleave\u001b[49m\u001b[43m(\u001b[49m\u001b[43mdtype\u001b[49m\u001b[38;5;241;43m=\u001b[39;49m\u001b[43mdtype\u001b[49m\u001b[43m,\u001b[49m\u001b[43m \u001b[49m\u001b[43mna_value\u001b[49m\u001b[38;5;241;43m=\u001b[39;49m\u001b[43mna_value\u001b[49m\u001b[43m)\u001b[49m\n\u001b[0;32m   1695\u001b[0m     \u001b[38;5;66;03m# The underlying data was copied within _interleave, so no need\u001b[39;00m\n\u001b[0;32m   1696\u001b[0m     \u001b[38;5;66;03m# to further copy if copy=True or setting na_value\u001b[39;00m\n\u001b[0;32m   1698\u001b[0m \u001b[38;5;28;01mif\u001b[39;00m na_value \u001b[38;5;129;01mis\u001b[39;00m lib\u001b[38;5;241m.\u001b[39mno_default:\n",
      "File \u001b[1;32m~\\AppData\\Local\\Programs\\Python\\Python312\\Lib\\site-packages\\pandas\\core\\internals\\managers.py:1753\u001b[0m, in \u001b[0;36mBlockManager._interleave\u001b[1;34m(self, dtype, na_value)\u001b[0m\n\u001b[0;32m   1751\u001b[0m     \u001b[38;5;28;01melse\u001b[39;00m:\n\u001b[0;32m   1752\u001b[0m         arr \u001b[38;5;241m=\u001b[39m blk\u001b[38;5;241m.\u001b[39mget_values(dtype)\n\u001b[1;32m-> 1753\u001b[0m     \u001b[43mresult\u001b[49m\u001b[43m[\u001b[49m\u001b[43mrl\u001b[49m\u001b[38;5;241;43m.\u001b[39;49m\u001b[43mindexer\u001b[49m\u001b[43m]\u001b[49m \u001b[38;5;241m=\u001b[39m arr\n\u001b[0;32m   1754\u001b[0m     itemmask[rl\u001b[38;5;241m.\u001b[39mindexer] \u001b[38;5;241m=\u001b[39m \u001b[38;5;241m1\u001b[39m\n\u001b[0;32m   1756\u001b[0m \u001b[38;5;28;01mif\u001b[39;00m \u001b[38;5;129;01mnot\u001b[39;00m itemmask\u001b[38;5;241m.\u001b[39mall():\n",
      "\u001b[1;31mValueError\u001b[0m: could not convert string to float: 'rice'"
     ]
    }
   ],
   "source": [
    "crop.corr()"
   ]
  },
  {
   "cell_type": "code",
   "execution_count": 14,
   "id": "264290ef-5ca4-4ccc-80db-edc8c2780125",
   "metadata": {},
   "outputs": [
    {
     "ename": "ModuleNotFoundError",
     "evalue": "No module named 'seaborn'",
     "output_type": "error",
     "traceback": [
      "\u001b[1;31m---------------------------------------------------------------------------\u001b[0m",
      "\u001b[1;31mModuleNotFoundError\u001b[0m                       Traceback (most recent call last)",
      "Cell \u001b[1;32mIn[14], line 1\u001b[0m\n\u001b[1;32m----> 1\u001b[0m \u001b[38;5;28;01mimport\u001b[39;00m \u001b[38;5;21;01mseaborn\u001b[39;00m \u001b[38;5;28;01mas\u001b[39;00m \u001b[38;5;21;01msns\u001b[39;00m\n\u001b[0;32m      2\u001b[0m sns\u001b[38;5;241m.\u001b[39mheatmap(crop\u001b[38;5;241m.\u001b[39mcorr(),annot\u001b[38;5;241m=\u001b[39m\u001b[38;5;28;01mTrue\u001b[39;00m,cbar\u001b[38;5;241m=\u001b[39m\u001b[38;5;28;01mTrue\u001b[39;00m)\n",
      "\u001b[1;31mModuleNotFoundError\u001b[0m: No module named 'seaborn'"
     ]
    }
   ],
   "source": [
    "import seaborn as sns\n",
    "sns.heatmap(crop.corr(),annot=True,cbar=True)"
   ]
  },
  {
   "cell_type": "code",
   "execution_count": 15,
   "id": "3322538e-6a61-4e01-89c7-8f4fec2e2f92",
   "metadata": {},
   "outputs": [
    {
     "name": "stdout",
     "output_type": "stream",
     "text": [
      "Collecting seaborn\n",
      "  Downloading seaborn-0.13.2-py3-none-any.whl.metadata (5.4 kB)\n",
      "Collecting matplotlib\n",
      "  Downloading matplotlib-3.9.0-cp312-cp312-win_amd64.whl.metadata (11 kB)\n",
      "Requirement already satisfied: numpy!=1.24.0,>=1.20 in c:\\users\\dell\\appdata\\local\\programs\\python\\python312\\lib\\site-packages (from seaborn) (2.0.0)\n",
      "Requirement already satisfied: pandas>=1.2 in c:\\users\\dell\\appdata\\local\\programs\\python\\python312\\lib\\site-packages (from seaborn) (2.2.2)\n",
      "Collecting contourpy>=1.0.1 (from matplotlib)\n",
      "  Downloading contourpy-1.2.1-cp312-cp312-win_amd64.whl.metadata (5.8 kB)\n",
      "Collecting cycler>=0.10 (from matplotlib)\n",
      "  Downloading cycler-0.12.1-py3-none-any.whl.metadata (3.8 kB)\n",
      "Collecting fonttools>=4.22.0 (from matplotlib)\n",
      "  Downloading fonttools-4.53.0-cp312-cp312-win_amd64.whl.metadata (165 kB)\n",
      "     ---------------------------------------- 0.0/165.5 kB ? eta -:--:--\n",
      "     -- ------------------------------------- 10.2/165.5 kB ? eta -:--:--\n",
      "     ------------------------- ------------ 112.6/165.5 kB 1.6 MB/s eta 0:00:01\n",
      "     -------------------------------------- 165.5/165.5 kB 2.0 MB/s eta 0:00:00\n",
      "Collecting kiwisolver>=1.3.1 (from matplotlib)\n",
      "  Downloading kiwisolver-1.4.5-cp312-cp312-win_amd64.whl.metadata (6.5 kB)\n",
      "Requirement already satisfied: packaging>=20.0 in c:\\users\\dell\\appdata\\local\\programs\\python\\python312\\lib\\site-packages (from matplotlib) (24.1)\n",
      "Collecting pillow>=8 (from matplotlib)\n",
      "  Downloading pillow-10.3.0-cp312-cp312-win_amd64.whl.metadata (9.4 kB)\n",
      "Collecting pyparsing>=2.3.1 (from matplotlib)\n",
      "  Downloading pyparsing-3.1.2-py3-none-any.whl.metadata (5.1 kB)\n",
      "Requirement already satisfied: python-dateutil>=2.7 in c:\\users\\dell\\appdata\\local\\programs\\python\\python312\\lib\\site-packages (from matplotlib) (2.9.0.post0)\n",
      "Requirement already satisfied: pytz>=2020.1 in c:\\users\\dell\\appdata\\local\\programs\\python\\python312\\lib\\site-packages (from pandas>=1.2->seaborn) (2024.1)\n",
      "Requirement already satisfied: tzdata>=2022.7 in c:\\users\\dell\\appdata\\local\\programs\\python\\python312\\lib\\site-packages (from pandas>=1.2->seaborn) (2024.1)\n",
      "Requirement already satisfied: six>=1.5 in c:\\users\\dell\\appdata\\local\\programs\\python\\python312\\lib\\site-packages (from python-dateutil>=2.7->matplotlib) (1.16.0)\n",
      "Downloading seaborn-0.13.2-py3-none-any.whl (294 kB)\n",
      "   ---------------------------------------- 0.0/294.9 kB ? eta -:--:--\n",
      "   --------------------------- ------------ 204.8/294.9 kB 4.1 MB/s eta 0:00:01\n",
      "   ---------------------------------------- 294.9/294.9 kB 3.6 MB/s eta 0:00:00\n",
      "Downloading matplotlib-3.9.0-cp312-cp312-win_amd64.whl (8.0 MB)\n",
      "   ---------------------------------------- 0.0/8.0 MB ? eta -:--:--\n",
      "   - -------------------------------------- 0.3/8.0 MB 5.7 MB/s eta 0:00:02\n",
      "   --- ------------------------------------ 0.6/8.0 MB 6.5 MB/s eta 0:00:02\n",
      "   ---- ----------------------------------- 0.9/8.0 MB 6.5 MB/s eta 0:00:02\n",
      "   ------ --------------------------------- 1.2/8.0 MB 7.1 MB/s eta 0:00:01\n",
      "   -------- ------------------------------- 1.6/8.0 MB 7.0 MB/s eta 0:00:01\n",
      "   --------- ------------------------------ 1.9/8.0 MB 7.2 MB/s eta 0:00:01\n",
      "   ----------- ---------------------------- 2.3/8.0 MB 7.2 MB/s eta 0:00:01\n",
      "   ------------- -------------------------- 2.6/8.0 MB 7.2 MB/s eta 0:00:01\n",
      "   -------------- ------------------------- 2.9/8.0 MB 7.2 MB/s eta 0:00:01\n",
      "   ---------------- ----------------------- 3.3/8.0 MB 7.2 MB/s eta 0:00:01\n",
      "   ------------------ --------------------- 3.7/8.0 MB 7.3 MB/s eta 0:00:01\n",
      "   ------------------- -------------------- 3.9/8.0 MB 7.3 MB/s eta 0:00:01\n",
      "   ---------------------- ----------------- 4.5/8.0 MB 7.7 MB/s eta 0:00:01\n",
      "   ----------------------- ---------------- 4.7/8.0 MB 7.3 MB/s eta 0:00:01\n",
      "   ------------------------ --------------- 4.9/8.0 MB 7.1 MB/s eta 0:00:01\n",
      "   ------------------------- -------------- 5.1/8.0 MB 6.9 MB/s eta 0:00:01\n",
      "   -------------------------- ------------- 5.3/8.0 MB 6.8 MB/s eta 0:00:01\n",
      "   --------------------------- ------------ 5.5/8.0 MB 6.6 MB/s eta 0:00:01\n",
      "   ---------------------------- ----------- 5.8/8.0 MB 6.6 MB/s eta 0:00:01\n",
      "   ----------------------------- ---------- 5.9/8.0 MB 6.4 MB/s eta 0:00:01\n",
      "   ------------------------------- -------- 6.2/8.0 MB 6.4 MB/s eta 0:00:01\n",
      "   -------------------------------- ------- 6.4/8.0 MB 6.3 MB/s eta 0:00:01\n",
      "   --------------------------------- ------ 6.7/8.0 MB 6.4 MB/s eta 0:00:01\n",
      "   ----------------------------------- ---- 7.0/8.0 MB 6.3 MB/s eta 0:00:01\n",
      "   ------------------------------------ --- 7.3/8.0 MB 6.3 MB/s eta 0:00:01\n",
      "   -------------------------------------- - 7.6/8.0 MB 6.3 MB/s eta 0:00:01\n",
      "   ---------------------------------------  7.9/8.0 MB 6.3 MB/s eta 0:00:01\n",
      "   ---------------------------------------- 8.0/8.0 MB 6.2 MB/s eta 0:00:00\n",
      "Downloading contourpy-1.2.1-cp312-cp312-win_amd64.whl (189 kB)\n",
      "   ---------------------------------------- 0.0/189.9 kB ? eta -:--:--\n",
      "   ---------------------------------------- 189.9/189.9 kB 5.8 MB/s eta 0:00:00\n",
      "Downloading cycler-0.12.1-py3-none-any.whl (8.3 kB)\n",
      "Downloading fonttools-4.53.0-cp312-cp312-win_amd64.whl (2.2 MB)\n",
      "   ---------------------------------------- 0.0/2.2 MB ? eta -:--:--\n",
      "   ------ --------------------------------- 0.3/2.2 MB 10.2 MB/s eta 0:00:01\n",
      "   ------------- -------------------------- 0.7/2.2 MB 9.3 MB/s eta 0:00:01\n",
      "   ------------------- -------------------- 1.1/2.2 MB 8.5 MB/s eta 0:00:01\n",
      "   ------------------------- -------------- 1.4/2.2 MB 8.1 MB/s eta 0:00:01\n",
      "   ----------------------------- ---------- 1.6/2.2 MB 7.3 MB/s eta 0:00:01\n",
      "   ---------------------------------- ----- 1.9/2.2 MB 7.0 MB/s eta 0:00:01\n",
      "   -------------------------------------- - 2.1/2.2 MB 6.6 MB/s eta 0:00:01\n",
      "   ---------------------------------------- 2.2/2.2 MB 6.3 MB/s eta 0:00:00\n",
      "Downloading kiwisolver-1.4.5-cp312-cp312-win_amd64.whl (56 kB)\n",
      "   ---------------------------------------- 0.0/56.0 kB ? eta -:--:--\n",
      "   ---------------------------------------- 56.0/56.0 kB 2.9 MB/s eta 0:00:00\n",
      "Downloading pillow-10.3.0-cp312-cp312-win_amd64.whl (2.5 MB)\n",
      "   ---------------------------------------- 0.0/2.5 MB ? eta -:--:--\n",
      "   ---- ----------------------------------- 0.3/2.5 MB 5.7 MB/s eta 0:00:01\n",
      "   ------ --------------------------------- 0.4/2.5 MB 5.1 MB/s eta 0:00:01\n",
      "   ----------- ---------------------------- 0.7/2.5 MB 5.0 MB/s eta 0:00:01\n",
      "   --------------- ------------------------ 1.0/2.5 MB 5.2 MB/s eta 0:00:01\n",
      "   -------------------- ------------------- 1.3/2.5 MB 5.8 MB/s eta 0:00:01\n",
      "   -------------------------- ------------- 1.7/2.5 MB 5.9 MB/s eta 0:00:01\n",
      "   ------------------------------ --------- 1.9/2.5 MB 5.8 MB/s eta 0:00:01\n",
      "   ----------------------------------- ---- 2.3/2.5 MB 6.3 MB/s eta 0:00:01\n",
      "   ---------------------------------------  2.5/2.5 MB 6.2 MB/s eta 0:00:01\n",
      "   ---------------------------------------- 2.5/2.5 MB 5.8 MB/s eta 0:00:00\n",
      "Downloading pyparsing-3.1.2-py3-none-any.whl (103 kB)\n",
      "   ---------------------------------------- 0.0/103.2 kB ? eta -:--:--\n",
      "   ---------------------------------------- 103.2/103.2 kB 5.8 MB/s eta 0:00:00\n",
      "Installing collected packages: pyparsing, pillow, kiwisolver, fonttools, cycler, contourpy, matplotlib, seaborn\n",
      "Successfully installed contourpy-1.2.1 cycler-0.12.1 fonttools-4.53.0 kiwisolver-1.4.5 matplotlib-3.9.0 pillow-10.3.0 pyparsing-3.1.2 seaborn-0.13.2\n",
      "Note: you may need to restart the kernel to use updated packages.\n"
     ]
    }
   ],
   "source": [
    "pip install seaborn matplotlib"
   ]
  },
  {
   "cell_type": "code",
   "execution_count": 16,
   "id": "a7dde65f-86f9-4ca1-b15c-63a807e88fe5",
   "metadata": {
    "scrolled": true
   },
   "outputs": [
    {
     "ename": "ValueError",
     "evalue": "could not convert string to float: 'rice'",
     "output_type": "error",
     "traceback": [
      "\u001b[1;31m---------------------------------------------------------------------------\u001b[0m",
      "\u001b[1;31mValueError\u001b[0m                                Traceback (most recent call last)",
      "Cell \u001b[1;32mIn[16], line 2\u001b[0m\n\u001b[0;32m      1\u001b[0m \u001b[38;5;28;01mimport\u001b[39;00m \u001b[38;5;21;01mseaborn\u001b[39;00m \u001b[38;5;28;01mas\u001b[39;00m \u001b[38;5;21;01msns\u001b[39;00m\n\u001b[1;32m----> 2\u001b[0m sns\u001b[38;5;241m.\u001b[39mheatmap(\u001b[43mcrop\u001b[49m\u001b[38;5;241;43m.\u001b[39;49m\u001b[43mcorr\u001b[49m\u001b[43m(\u001b[49m\u001b[43m)\u001b[49m,annot\u001b[38;5;241m=\u001b[39m\u001b[38;5;28;01mTrue\u001b[39;00m,cbar\u001b[38;5;241m=\u001b[39m\u001b[38;5;28;01mTrue\u001b[39;00m)\n",
      "File \u001b[1;32m~\\AppData\\Local\\Programs\\Python\\Python312\\Lib\\site-packages\\pandas\\core\\frame.py:11049\u001b[0m, in \u001b[0;36mDataFrame.corr\u001b[1;34m(self, method, min_periods, numeric_only)\u001b[0m\n\u001b[0;32m  11047\u001b[0m cols \u001b[38;5;241m=\u001b[39m data\u001b[38;5;241m.\u001b[39mcolumns\n\u001b[0;32m  11048\u001b[0m idx \u001b[38;5;241m=\u001b[39m cols\u001b[38;5;241m.\u001b[39mcopy()\n\u001b[1;32m> 11049\u001b[0m mat \u001b[38;5;241m=\u001b[39m \u001b[43mdata\u001b[49m\u001b[38;5;241;43m.\u001b[39;49m\u001b[43mto_numpy\u001b[49m\u001b[43m(\u001b[49m\u001b[43mdtype\u001b[49m\u001b[38;5;241;43m=\u001b[39;49m\u001b[38;5;28;43mfloat\u001b[39;49m\u001b[43m,\u001b[49m\u001b[43m \u001b[49m\u001b[43mna_value\u001b[49m\u001b[38;5;241;43m=\u001b[39;49m\u001b[43mnp\u001b[49m\u001b[38;5;241;43m.\u001b[39;49m\u001b[43mnan\u001b[49m\u001b[43m,\u001b[49m\u001b[43m \u001b[49m\u001b[43mcopy\u001b[49m\u001b[38;5;241;43m=\u001b[39;49m\u001b[38;5;28;43;01mFalse\u001b[39;49;00m\u001b[43m)\u001b[49m\n\u001b[0;32m  11051\u001b[0m \u001b[38;5;28;01mif\u001b[39;00m method \u001b[38;5;241m==\u001b[39m \u001b[38;5;124m\"\u001b[39m\u001b[38;5;124mpearson\u001b[39m\u001b[38;5;124m\"\u001b[39m:\n\u001b[0;32m  11052\u001b[0m     correl \u001b[38;5;241m=\u001b[39m libalgos\u001b[38;5;241m.\u001b[39mnancorr(mat, minp\u001b[38;5;241m=\u001b[39mmin_periods)\n",
      "File \u001b[1;32m~\\AppData\\Local\\Programs\\Python\\Python312\\Lib\\site-packages\\pandas\\core\\frame.py:1993\u001b[0m, in \u001b[0;36mDataFrame.to_numpy\u001b[1;34m(self, dtype, copy, na_value)\u001b[0m\n\u001b[0;32m   1991\u001b[0m \u001b[38;5;28;01mif\u001b[39;00m dtype \u001b[38;5;129;01mis\u001b[39;00m \u001b[38;5;129;01mnot\u001b[39;00m \u001b[38;5;28;01mNone\u001b[39;00m:\n\u001b[0;32m   1992\u001b[0m     dtype \u001b[38;5;241m=\u001b[39m np\u001b[38;5;241m.\u001b[39mdtype(dtype)\n\u001b[1;32m-> 1993\u001b[0m result \u001b[38;5;241m=\u001b[39m \u001b[38;5;28;43mself\u001b[39;49m\u001b[38;5;241;43m.\u001b[39;49m\u001b[43m_mgr\u001b[49m\u001b[38;5;241;43m.\u001b[39;49m\u001b[43mas_array\u001b[49m\u001b[43m(\u001b[49m\u001b[43mdtype\u001b[49m\u001b[38;5;241;43m=\u001b[39;49m\u001b[43mdtype\u001b[49m\u001b[43m,\u001b[49m\u001b[43m \u001b[49m\u001b[43mcopy\u001b[49m\u001b[38;5;241;43m=\u001b[39;49m\u001b[43mcopy\u001b[49m\u001b[43m,\u001b[49m\u001b[43m \u001b[49m\u001b[43mna_value\u001b[49m\u001b[38;5;241;43m=\u001b[39;49m\u001b[43mna_value\u001b[49m\u001b[43m)\u001b[49m\n\u001b[0;32m   1994\u001b[0m \u001b[38;5;28;01mif\u001b[39;00m result\u001b[38;5;241m.\u001b[39mdtype \u001b[38;5;129;01mis\u001b[39;00m \u001b[38;5;129;01mnot\u001b[39;00m dtype:\n\u001b[0;32m   1995\u001b[0m     result \u001b[38;5;241m=\u001b[39m np\u001b[38;5;241m.\u001b[39masarray(result, dtype\u001b[38;5;241m=\u001b[39mdtype)\n",
      "File \u001b[1;32m~\\AppData\\Local\\Programs\\Python\\Python312\\Lib\\site-packages\\pandas\\core\\internals\\managers.py:1694\u001b[0m, in \u001b[0;36mBlockManager.as_array\u001b[1;34m(self, dtype, copy, na_value)\u001b[0m\n\u001b[0;32m   1692\u001b[0m         arr\u001b[38;5;241m.\u001b[39mflags\u001b[38;5;241m.\u001b[39mwriteable \u001b[38;5;241m=\u001b[39m \u001b[38;5;28;01mFalse\u001b[39;00m\n\u001b[0;32m   1693\u001b[0m \u001b[38;5;28;01melse\u001b[39;00m:\n\u001b[1;32m-> 1694\u001b[0m     arr \u001b[38;5;241m=\u001b[39m \u001b[38;5;28;43mself\u001b[39;49m\u001b[38;5;241;43m.\u001b[39;49m\u001b[43m_interleave\u001b[49m\u001b[43m(\u001b[49m\u001b[43mdtype\u001b[49m\u001b[38;5;241;43m=\u001b[39;49m\u001b[43mdtype\u001b[49m\u001b[43m,\u001b[49m\u001b[43m \u001b[49m\u001b[43mna_value\u001b[49m\u001b[38;5;241;43m=\u001b[39;49m\u001b[43mna_value\u001b[49m\u001b[43m)\u001b[49m\n\u001b[0;32m   1695\u001b[0m     \u001b[38;5;66;03m# The underlying data was copied within _interleave, so no need\u001b[39;00m\n\u001b[0;32m   1696\u001b[0m     \u001b[38;5;66;03m# to further copy if copy=True or setting na_value\u001b[39;00m\n\u001b[0;32m   1698\u001b[0m \u001b[38;5;28;01mif\u001b[39;00m na_value \u001b[38;5;129;01mis\u001b[39;00m lib\u001b[38;5;241m.\u001b[39mno_default:\n",
      "File \u001b[1;32m~\\AppData\\Local\\Programs\\Python\\Python312\\Lib\\site-packages\\pandas\\core\\internals\\managers.py:1753\u001b[0m, in \u001b[0;36mBlockManager._interleave\u001b[1;34m(self, dtype, na_value)\u001b[0m\n\u001b[0;32m   1751\u001b[0m     \u001b[38;5;28;01melse\u001b[39;00m:\n\u001b[0;32m   1752\u001b[0m         arr \u001b[38;5;241m=\u001b[39m blk\u001b[38;5;241m.\u001b[39mget_values(dtype)\n\u001b[1;32m-> 1753\u001b[0m     \u001b[43mresult\u001b[49m\u001b[43m[\u001b[49m\u001b[43mrl\u001b[49m\u001b[38;5;241;43m.\u001b[39;49m\u001b[43mindexer\u001b[49m\u001b[43m]\u001b[49m \u001b[38;5;241m=\u001b[39m arr\n\u001b[0;32m   1754\u001b[0m     itemmask[rl\u001b[38;5;241m.\u001b[39mindexer] \u001b[38;5;241m=\u001b[39m \u001b[38;5;241m1\u001b[39m\n\u001b[0;32m   1756\u001b[0m \u001b[38;5;28;01mif\u001b[39;00m \u001b[38;5;129;01mnot\u001b[39;00m itemmask\u001b[38;5;241m.\u001b[39mall():\n",
      "\u001b[1;31mValueError\u001b[0m: could not convert string to float: 'rice'"
     ]
    }
   ],
   "source": [
    "import seaborn as sns\n",
    "sns.heatmap(crop.corr(),annot=True,cbar=True)"
   ]
  },
  {
   "cell_type": "code",
   "execution_count": 21,
   "id": "b95b6be7-2cc1-424a-9717-1173ffba537d",
   "metadata": {},
   "outputs": [
    {
     "name": "stdout",
     "output_type": "stream",
     "text": [
      "N                int64\n",
      "P                int64\n",
      "K                int64\n",
      "temperature    float64\n",
      "humidity       float64\n",
      "ph             float64\n",
      "rainfall       float64\n",
      "label           object\n",
      "dtype: object\n"
     ]
    }
   ],
   "source": [
    "print(crop.dtypes)"
   ]
  },
  {
   "cell_type": "code",
   "execution_count": 22,
   "id": "1dcae975-13be-457b-bfab-c90c3c3e4c6e",
   "metadata": {},
   "outputs": [],
   "source": [
    "numeric_crop = crop.select_dtypes(include=[np.number])"
   ]
  },
  {
   "cell_type": "code",
   "execution_count": 23,
   "id": "48d32616-5567-4c74-a5b5-ddc61efd1576",
   "metadata": {},
   "outputs": [],
   "source": [
    "numeric_crop = numeric_crop.dropna()"
   ]
  },
  {
   "cell_type": "code",
   "execution_count": 24,
   "id": "95d23981-2ec8-432f-a415-3b755e297b9c",
   "metadata": {},
   "outputs": [
    {
     "name": "stdout",
     "output_type": "stream",
     "text": [
      "                    N         P         K  temperature  humidity        ph  \\\n",
      "N            1.000000 -0.231460 -0.140512     0.026504  0.190688  0.096683   \n",
      "P           -0.231460  1.000000  0.736232    -0.127541 -0.118734 -0.138019   \n",
      "K           -0.140512  0.736232  1.000000    -0.160387  0.190859 -0.169503   \n",
      "temperature  0.026504 -0.127541 -0.160387     1.000000  0.205320 -0.017795   \n",
      "humidity     0.190688 -0.118734  0.190859     0.205320  1.000000 -0.008483   \n",
      "ph           0.096683 -0.138019 -0.169503    -0.017795 -0.008483  1.000000   \n",
      "rainfall     0.059020 -0.063839 -0.053461    -0.030084  0.094423 -0.109069   \n",
      "\n",
      "             rainfall  \n",
      "N            0.059020  \n",
      "P           -0.063839  \n",
      "K           -0.053461  \n",
      "temperature -0.030084  \n",
      "humidity     0.094423  \n",
      "ph          -0.109069  \n",
      "rainfall     1.000000  \n"
     ]
    }
   ],
   "source": [
    "correlation_matrix = numeric_crop.corr()\n",
    "print(correlation_matrix)"
   ]
  },
  {
   "cell_type": "code",
   "execution_count": 26,
   "id": "2f7b3905-102b-461c-b484-1448f93bac1b",
   "metadata": {},
   "outputs": [],
   "source": [
    "import seaborn as sns\n",
    "import matplotlib.pyplot as plt"
   ]
  },
  {
   "cell_type": "code",
   "execution_count": 27,
   "id": "2837f1e4-b396-458f-b7c6-58c3e90f06d5",
   "metadata": {},
   "outputs": [
    {
     "data": {
      "image/png": "[encoded data removed]",
      "text/plain": [
       "<Figure size 640x480 with 2 Axes>"
      ]
     },
     "metadata": {},
     "output_type": "display_data"
    }
   ],
   "source": [
    "sns.heatmap(correlation_matrix, annot=True, cbar=True)\n",
    "plt.show()"
   ]
  },
  {
   "cell_type": "code",
   "execution_count": 28,
   "id": "e2d82c1b-992f-414f-a9bb-5574ed0aba01",
   "metadata": {},
   "outputs": [
    {
     "data": {
      "text/plain": [
       "label\n",
       "rice           100\n",
       "maize          100\n",
       "chickpea       100\n",
       "kidneybeans    100\n",
       "pigeonpeas     100\n",
       "mothbeans      100\n",
       "mungbean       100\n",
       "blackgram      100\n",
       "lentil         100\n",
       "pomegranate    100\n",
       "banana         100\n",
       "mango          100\n",
       "grapes         100\n",
       "watermelon     100\n",
       "muskmelon      100\n",
       "apple          100\n",
       "orange         100\n",
       "papaya         100\n",
       "coconut        100\n",
       "cotton         100\n",
       "jute           100\n",
       "coffee         100\n",
       "Name: count, dtype: int64"
      ]
     },
     "execution_count": 28,
     "metadata": {},
     "output_type": "execute_result"
    }
   ],
   "source": [
    "crop.label.value_counts()"
   ]
  },
  {
   "cell_type": "code",
   "execution_count": 31,
   "id": "580e50e5-80c5-4f03-b0d9-7f07c501ce60",
   "metadata": {},
   "outputs": [
    {
     "data": {
      "text/plain": [
       "22"
      ]
     },
     "execution_count": 31,
     "metadata": {},
     "output_type": "execute_result"
    }
   ],
   "source": [
    "crop['label'].unique().size"
   ]
  },
  {
   "cell_type": "code",
   "execution_count": 33,
   "id": "96711ae8-55bb-4472-b096-a75f768e9ac1",
   "metadata": {},
   "outputs": [
    {
     "ename": "NameError",
     "evalue": "name 'distplot' is not defined",
     "output_type": "error",
     "traceback": [
      "\u001b[1;31m---------------------------------------------------------------------------\u001b[0m",
      "\u001b[1;31mNameError\u001b[0m                                 Traceback (most recent call last)",
      "Cell \u001b[1;32mIn[33], line 1\u001b[0m\n\u001b[1;32m----> 1\u001b[0m sns\u001b[38;5;241m=\u001b[39m\u001b[43mdistplot\u001b[49m(crop[\u001b[38;5;124m'\u001b[39m\u001b[38;5;124mP\u001b[39m\u001b[38;5;124m'\u001b[39m])\n\u001b[0;32m      2\u001b[0m plt\u001b[38;5;241m.\u001b[39mshow()\n",
      "\u001b[1;31mNameError\u001b[0m: name 'distplot' is not defined"
     ]
    }
   ],
   "source": [
    "sns=distplot(crop['P'])\n",
    "plt.show()"
   ]
  },
  {
   "cell_type": "code",
   "execution_count": 34,
   "id": "15e28688-be4c-4c83-a082-235e5dde4cfd",
   "metadata": {},
   "outputs": [
    {
     "data": {
      "image/png": "[encoded data removed]",
      "text/plain": [
       "<Figure size 500x500 with 1 Axes>"
      ]
     },
     "metadata": {},
     "output_type": "display_data"
    }
   ],
   "source": [
    "sns.displot(crop['P'], kde=True)\n",
    "plt.show()"
   ]
  },
  {
   "cell_type": "code",
   "execution_count": 35,
   "id": "ab8c0e10-95b8-44d4-a33a-fd72c42b8956",
   "metadata": {},
   "outputs": [
    {
     "data": {
      "image/png": "[encoded data removed]",
      "text/plain": [
       "<Figure size 500x500 with 1 Axes>"
      ]
     },
     "metadata": {},
     "output_type": "display_data"
    }
   ],
   "source": [
    "sns.displot(crop['N'], kde=True)\n",
    "plt.show()"
   ]
  },
  {
   "cell_type": "code",
   "execution_count": 36,
   "id": "5a6c4571-8f2d-4eed-beb9-68eb7770f28e",
   "metadata": {},
   "outputs": [
    {
     "data": {
      "text/plain": [
       "array(['rice', 'maize', 'chickpea', 'kidneybeans', 'pigeonpeas',\n",
       "       'mothbeans', 'mungbean', 'blackgram', 'lentil', 'pomegranate',\n",
       "       'banana', 'mango', 'grapes', 'watermelon', 'muskmelon', 'apple',\n",
       "       'orange', 'papaya', 'coconut', 'cotton', 'jute', 'coffee'],\n",
       "      dtype=object)"
      ]
     },
     "execution_count": 36,
     "metadata": {},
     "output_type": "execute_result"
    }
   ],
   "source": [
    "crop.label.unique()"
   ]
  },
  {
   "cell_type": "code",
   "execution_count": 37,
   "id": "d46466f8-e8a5-4eaf-aed1-32887a223bee",
   "metadata": {},
   "outputs": [],
   "source": [
    "crop_dict={\n",
    "    'rice': 1,\n",
    "    'maize': 2,\n",
    "    'jute': 3,\n",
    "    'cotton': 4,\n",
    "    'coconut': 5,\n",
    "    'papaya': 6,\n",
    "    'orange': 7,\n",
    "    'apple': 8,\n",
    "    'muskmelon': 9,\n",
    "    'watermelon': 10,\n",
    "    'grapes': 11,\n",
    "    'mango': 12,\n",
    "    'banana': 13,\n",
    "    'pomegranate': 14,\n",
    "    'lentil': 15,\n",
    "    'blackgram': 16,\n",
    "    'mungbean': 17,\n",
    "    'mothbeans': 18,\n",
    "    'pigeonpeas': 19,\n",
    "    'kidneybeans': 20,\n",
    "    'chickpea': 21,\n",
    "    'coffee': 22\n",
    "}\n",
    "\n",
    "crop['label'] = crop['label'].map(crop_dict)"
   ]
  },
  {
   "cell_type": "code",
   "execution_count": 38,
   "id": "f76e6cf4-d954-4c27-a118-b65e058722f7",
   "metadata": {},
   "outputs": [
    {
     "data": {
      "text/html": [
       "<div>\n",
       "<style scoped>\n",
       "    .dataframe tbody tr th:only-of-type {\n",
       "        vertical-align: middle;\n",
       "    }\n",
       "\n",
       "    .dataframe tbody tr th {\n",
       "        vertical-align: top;\n",
       "    }\n",
       "\n",
       "    .dataframe thead th {\n",
       "        text-align: right;\n",
       "    }\n",
       "</style>\n",
       "<table border=\"1\" class=\"dataframe\">\n",
       "  <thead>\n",
       "    <tr style=\"text-align: right;\">\n",
       "      <th></th>\n",
       "      <th>N</th>\n",
       "      <th>P</th>\n",
       "      <th>K</th>\n",
       "      <th>temperature</th>\n",
       "      <th>humidity</th>\n",
       "      <th>ph</th>\n",
       "      <th>rainfall</th>\n",
       "      <th>label</th>\n",
       "    </tr>\n",
       "  </thead>\n",
       "  <tbody>\n",
       "    <tr>\n",
       "      <th>0</th>\n",
       "      <td>90</td>\n",
       "      <td>42</td>\n",
       "      <td>43</td>\n",
       "      <td>20.879744</td>\n",
       "      <td>82.002744</td>\n",
       "      <td>6.502985</td>\n",
       "      <td>202.935536</td>\n",
       "      <td>1</td>\n",
       "    </tr>\n",
       "    <tr>\n",
       "      <th>1</th>\n",
       "      <td>85</td>\n",
       "      <td>58</td>\n",
       "      <td>41</td>\n",
       "      <td>21.770462</td>\n",
       "      <td>80.319644</td>\n",
       "      <td>7.038096</td>\n",
       "      <td>226.655537</td>\n",
       "      <td>1</td>\n",
       "    </tr>\n",
       "    <tr>\n",
       "      <th>2</th>\n",
       "      <td>60</td>\n",
       "      <td>55</td>\n",
       "      <td>44</td>\n",
       "      <td>23.004459</td>\n",
       "      <td>82.320763</td>\n",
       "      <td>7.840207</td>\n",
       "      <td>263.964248</td>\n",
       "      <td>1</td>\n",
       "    </tr>\n",
       "    <tr>\n",
       "      <th>3</th>\n",
       "      <td>74</td>\n",
       "      <td>35</td>\n",
       "      <td>40</td>\n",
       "      <td>26.491096</td>\n",
       "      <td>80.158363</td>\n",
       "      <td>6.980401</td>\n",
       "      <td>242.864034</td>\n",
       "      <td>1</td>\n",
       "    </tr>\n",
       "    <tr>\n",
       "      <th>4</th>\n",
       "      <td>78</td>\n",
       "      <td>42</td>\n",
       "      <td>42</td>\n",
       "      <td>20.130175</td>\n",
       "      <td>81.604873</td>\n",
       "      <td>7.628473</td>\n",
       "      <td>262.717340</td>\n",
       "      <td>1</td>\n",
       "    </tr>\n",
       "  </tbody>\n",
       "</table>\n",
       "</div>"
      ],
      "text/plain": [
       "    N   P   K  temperature   humidity        ph    rainfall  label\n",
       "0  90  42  43    20.879744  82.002744  6.502985  202.935536      1\n",
       "1  85  58  41    21.770462  80.319644  7.038096  226.655537      1\n",
       "2  60  55  44    23.004459  82.320763  7.840207  263.964248      1\n",
       "3  74  35  40    26.491096  80.158363  6.980401  242.864034      1\n",
       "4  78  42  42    20.130175  81.604873  7.628473  262.717340      1"
      ]
     },
     "execution_count": 38,
     "metadata": {},
     "output_type": "execute_result"
    }
   ],
   "source": [
    "crop.head()"
   ]
  },
  {
   "cell_type": "code",
   "execution_count": 39,
   "id": "0a6ea79d-f805-4f0a-b27f-65cd96dfa0f3",
   "metadata": {},
   "outputs": [
    {
     "data": {
      "text/plain": [
       "array([ 1,  2, 21, 20, 19, 18, 17, 16, 15, 14, 13, 12, 11, 10,  9,  8,  7,\n",
       "        6,  5,  4,  3, 22])"
      ]
     },
     "execution_count": 39,
     "metadata": {},
     "output_type": "execute_result"
    }
   ],
   "source": [
    "crop.label.unique()"
   ]
  },
  {
   "cell_type": "code",
   "execution_count": 40,
   "id": "51a77a67-480f-4ab4-8f53-9a3df4cb6b1a",
   "metadata": {},
   "outputs": [
    {
     "data": {
      "text/plain": [
       "label\n",
       "1     100\n",
       "2     100\n",
       "21    100\n",
       "20    100\n",
       "19    100\n",
       "18    100\n",
       "17    100\n",
       "16    100\n",
       "15    100\n",
       "14    100\n",
       "13    100\n",
       "12    100\n",
       "11    100\n",
       "10    100\n",
       "9     100\n",
       "8     100\n",
       "7     100\n",
       "6     100\n",
       "5     100\n",
       "4     100\n",
       "3     100\n",
       "22    100\n",
       "Name: count, dtype: int64"
      ]
     },
     "execution_count": 40,
     "metadata": {},
     "output_type": "execute_result"
    }
   ],
   "source": [
    "crop.label.value_counts()"
   ]
  },
  {
   "cell_type": "code",
   "execution_count": 41,
   "id": "7c3e8be6-551a-4252-a29c-b704c910d657",
   "metadata": {},
   "outputs": [],
   "source": [
    "X=crop.drop('label', axis = 1)\n",
    "y=crop['label']"
   ]
  },
  {
   "cell_type": "code",
   "execution_count": 42,
   "id": "3476f4e9-fcd0-423c-a198-7d255351359d",
   "metadata": {},
   "outputs": [
    {
     "data": {
      "text/html": [
       "<div>\n",
       "<style scoped>\n",
       "    .dataframe tbody tr th:only-of-type {\n",
       "        vertical-align: middle;\n",
       "    }\n",
       "\n",
       "    .dataframe tbody tr th {\n",
       "        vertical-align: top;\n",
       "    }\n",
       "\n",
       "    .dataframe thead th {\n",
       "        text-align: right;\n",
       "    }\n",
       "</style>\n",
       "<table border=\"1\" class=\"dataframe\">\n",
       "  <thead>\n",
       "    <tr style=\"text-align: right;\">\n",
       "      <th></th>\n",
       "      <th>N</th>\n",
       "      <th>P</th>\n",
       "      <th>K</th>\n",
       "      <th>temperature</th>\n",
       "      <th>humidity</th>\n",
       "      <th>ph</th>\n",
       "      <th>rainfall</th>\n",
       "    </tr>\n",
       "  </thead>\n",
       "  <tbody>\n",
       "    <tr>\n",
       "      <th>0</th>\n",
       "      <td>90</td>\n",
       "      <td>42</td>\n",
       "      <td>43</td>\n",
       "      <td>20.879744</td>\n",
       "      <td>82.002744</td>\n",
       "      <td>6.502985</td>\n",
       "      <td>202.935536</td>\n",
       "    </tr>\n",
       "    <tr>\n",
       "      <th>1</th>\n",
       "      <td>85</td>\n",
       "      <td>58</td>\n",
       "      <td>41</td>\n",
       "      <td>21.770462</td>\n",
       "      <td>80.319644</td>\n",
       "      <td>7.038096</td>\n",
       "      <td>226.655537</td>\n",
       "    </tr>\n",
       "    <tr>\n",
       "      <th>2</th>\n",
       "      <td>60</td>\n",
       "      <td>55</td>\n",
       "      <td>44</td>\n",
       "      <td>23.004459</td>\n",
       "      <td>82.320763</td>\n",
       "      <td>7.840207</td>\n",
       "      <td>263.964248</td>\n",
       "    </tr>\n",
       "    <tr>\n",
       "      <th>3</th>\n",
       "      <td>74</td>\n",
       "      <td>35</td>\n",
       "      <td>40</td>\n",
       "      <td>26.491096</td>\n",
       "      <td>80.158363</td>\n",
       "      <td>6.980401</td>\n",
       "      <td>242.864034</td>\n",
       "    </tr>\n",
       "    <tr>\n",
       "      <th>4</th>\n",
       "      <td>78</td>\n",
       "      <td>42</td>\n",
       "      <td>42</td>\n",
       "      <td>20.130175</td>\n",
       "      <td>81.604873</td>\n",
       "      <td>7.628473</td>\n",
       "      <td>262.717340</td>\n",
       "    </tr>\n",
       "  </tbody>\n",
       "</table>\n",
       "</div>"
      ],
      "text/plain": [
       "    N   P   K  temperature   humidity        ph    rainfall\n",
       "0  90  42  43    20.879744  82.002744  6.502985  202.935536\n",
       "1  85  58  41    21.770462  80.319644  7.038096  226.655537\n",
       "2  60  55  44    23.004459  82.320763  7.840207  263.964248\n",
       "3  74  35  40    26.491096  80.158363  6.980401  242.864034\n",
       "4  78  42  42    20.130175  81.604873  7.628473  262.717340"
      ]
     },
     "execution_count": 42,
     "metadata": {},
     "output_type": "execute_result"
    }
   ],
   "source": [
    "X.head()"
   ]
  },
  {
   "cell_type": "code",
   "execution_count": 43,
   "id": "497f9240-3886-48af-bbb2-7b71cb560c9c",
   "metadata": {},
   "outputs": [
    {
     "data": {
      "text/plain": [
       "0    1\n",
       "1    1\n",
       "2    1\n",
       "3    1\n",
       "4    1\n",
       "Name: label, dtype: int64"
      ]
     },
     "execution_count": 43,
     "metadata": {},
     "output_type": "execute_result"
    }
   ],
   "source": [
    "y.head()"
   ]
  },
  {
   "cell_type": "code",
   "execution_count": 44,
   "id": "d1236aa6-cb8c-42d6-ad84-870ae32c1b96",
   "metadata": {},
   "outputs": [
    {
     "ename": "ModuleNotFoundError",
     "evalue": "No module named 'sklearn'",
     "output_type": "error",
     "traceback": [
      "\u001b[1;31m---------------------------------------------------------------------------\u001b[0m",
      "\u001b[1;31mModuleNotFoundError\u001b[0m                       Traceback (most recent call last)",
      "Cell \u001b[1;32mIn[44], line 1\u001b[0m\n\u001b[1;32m----> 1\u001b[0m \u001b[38;5;28;01mfrom\u001b[39;00m \u001b[38;5;21;01msklearn\u001b[39;00m\u001b[38;5;21;01m.\u001b[39;00m\u001b[38;5;21;01mmodel_selection\u001b[39;00m \u001b[38;5;28;01mimport\u001b[39;00m train_test_split\n\u001b[0;32m      2\u001b[0m X_train, X_test, y_train, y_test \u001b[38;5;241m=\u001b[39m train_test_split(X, y, test_size \u001b[38;5;241m=\u001b[39m \u001b[38;5;241m0.2\u001b[39m, random_state\u001b[38;5;241m=\u001b[39m\u001b[38;5;241m42\u001b[39m)\n",
      "\u001b[1;31mModuleNotFoundError\u001b[0m: No module named 'sklearn'"
     ]
    }
   ],
   "source": [
    "from sklearn.model_selection import train_test_split\n",
    "X_train, X_test, y_train, y_test = train_test_split(X, y, test_size = 0.2, random_state=42)"
   ]
  },
  {
   "cell_type": "code",
   "execution_count": 45,
   "id": "bcef6d0a-dabf-4a6c-850c-30830d587b4b",
   "metadata": {},
   "outputs": [
    {
     "name": "stdout",
     "output_type": "stream",
     "text": [
      "Collecting scikit-learn\n",
      "  Downloading scikit_learn-1.5.0-cp312-cp312-win_amd64.whl.metadata (11 kB)\n",
      "Requirement already satisfied: numpy>=1.19.5 in c:\\users\\dell\\appdata\\local\\programs\\python\\python312\\lib\\site-packages (from scikit-learn) (2.0.0)\n",
      "Collecting scipy>=1.6.0 (from scikit-learn)\n",
      "  Downloading scipy-1.13.1-cp312-cp312-win_amd64.whl.metadata (60 kB)\n",
      "     ---------------------------------------- 0.0/60.6 kB ? eta -:--:--\n",
      "     ------ --------------------------------- 10.2/60.6 kB ? eta -:--:--\n",
      "     ------------------- ------------------ 30.7/60.6 kB 640.0 kB/s eta 0:00:01\n",
      "     -------------------------------------- 60.6/60.6 kB 645.4 kB/s eta 0:00:00\n",
      "Collecting joblib>=1.2.0 (from scikit-learn)\n",
      "  Downloading joblib-1.4.2-py3-none-any.whl.metadata (5.4 kB)\n",
      "Collecting threadpoolctl>=3.1.0 (from scikit-learn)\n",
      "  Downloading threadpoolctl-3.5.0-py3-none-any.whl.metadata (13 kB)\n",
      "Downloading scikit_learn-1.5.0-cp312-cp312-win_amd64.whl (10.9 MB)\n",
      "   ---------------------------------------- 0.0/10.9 MB ? eta -:--:--\n",
      "    --------------------------------------- 0.1/10.9 MB 4.3 MB/s eta 0:00:03\n",
      "   - -------------------------------------- 0.5/10.9 MB 5.2 MB/s eta 0:00:02\n",
      "   --- ------------------------------------ 1.0/10.9 MB 7.3 MB/s eta 0:00:02\n",
      "   ----- ---------------------------------- 1.5/10.9 MB 7.8 MB/s eta 0:00:02\n",
      "   ----- ---------------------------------- 1.5/10.9 MB 8.0 MB/s eta 0:00:02\n",
      "   -------- ------------------------------- 2.2/10.9 MB 8.2 MB/s eta 0:00:02\n",
      "   --------- ------------------------------ 2.5/10.9 MB 7.9 MB/s eta 0:00:02\n",
      "   ---------- ----------------------------- 2.9/10.9 MB 7.8 MB/s eta 0:00:02\n",
      "   ------------ --------------------------- 3.4/10.9 MB 8.4 MB/s eta 0:00:01\n",
      "   ------------- -------------------------- 3.7/10.9 MB 7.8 MB/s eta 0:00:01\n",
      "   -------------- ------------------------- 4.0/10.9 MB 7.8 MB/s eta 0:00:01\n",
      "   --------------- ------------------------ 4.2/10.9 MB 7.5 MB/s eta 0:00:01\n",
      "   ---------------- ----------------------- 4.5/10.9 MB 7.5 MB/s eta 0:00:01\n",
      "   ----------------- ---------------------- 4.7/10.9 MB 7.3 MB/s eta 0:00:01\n",
      "   ----------------- ---------------------- 4.9/10.9 MB 7.1 MB/s eta 0:00:01\n",
      "   ------------------ --------------------- 5.1/10.9 MB 6.9 MB/s eta 0:00:01\n",
      "   ------------------- -------------------- 5.3/10.9 MB 6.8 MB/s eta 0:00:01\n",
      "   ------------------- -------------------- 5.5/10.9 MB 6.6 MB/s eta 0:00:01\n",
      "   -------------------- ------------------- 5.6/10.9 MB 6.4 MB/s eta 0:00:01\n",
      "   --------------------- ------------------ 5.8/10.9 MB 6.3 MB/s eta 0:00:01\n",
      "   --------------------- ------------------ 5.9/10.9 MB 6.1 MB/s eta 0:00:01\n",
      "   ---------------------- ----------------- 6.1/10.9 MB 6.0 MB/s eta 0:00:01\n",
      "   ---------------------- ----------------- 6.3/10.9 MB 5.9 MB/s eta 0:00:01\n",
      "   ----------------------- ---------------- 6.5/10.9 MB 5.8 MB/s eta 0:00:01\n",
      "   ------------------------ --------------- 6.6/10.9 MB 5.7 MB/s eta 0:00:01\n",
      "   ------------------------ --------------- 6.8/10.9 MB 5.7 MB/s eta 0:00:01\n",
      "   ------------------------- -------------- 7.0/10.9 MB 5.6 MB/s eta 0:00:01\n",
      "   -------------------------- ------------- 7.2/10.9 MB 5.5 MB/s eta 0:00:01\n",
      "   --------------------------- ------------ 7.4/10.9 MB 5.5 MB/s eta 0:00:01\n",
      "   --------------------------- ------------ 7.6/10.9 MB 5.5 MB/s eta 0:00:01\n",
      "   ---------------------------- ----------- 7.8/10.9 MB 5.4 MB/s eta 0:00:01\n",
      "   ---------------------------- ----------- 7.9/10.9 MB 5.4 MB/s eta 0:00:01\n",
      "   ----------------------------- ---------- 8.1/10.9 MB 5.3 MB/s eta 0:00:01\n",
      "   ------------------------------ --------- 8.3/10.9 MB 5.3 MB/s eta 0:00:01\n",
      "   ------------------------------- -------- 8.5/10.9 MB 5.2 MB/s eta 0:00:01\n",
      "   ------------------------------- -------- 8.7/10.9 MB 5.2 MB/s eta 0:00:01\n",
      "   -------------------------------- ------- 8.9/10.9 MB 5.2 MB/s eta 0:00:01\n",
      "   --------------------------------- ------ 9.2/10.9 MB 5.2 MB/s eta 0:00:01\n",
      "   ---------------------------------- ----- 9.3/10.9 MB 5.2 MB/s eta 0:00:01\n",
      "   ---------------------------------- ----- 9.6/10.9 MB 5.2 MB/s eta 0:00:01\n",
      "   ----------------------------------- ---- 9.7/10.9 MB 5.2 MB/s eta 0:00:01\n",
      "   ------------------------------------ --- 9.9/10.9 MB 5.1 MB/s eta 0:00:01\n",
      "   ------------------------------------- -- 10.1/10.9 MB 5.1 MB/s eta 0:00:01\n",
      "   -------------------------------------- - 10.4/10.9 MB 5.2 MB/s eta 0:00:01\n",
      "   -------------------------------------- - 10.6/10.9 MB 5.1 MB/s eta 0:00:01\n",
      "   ---------------------------------------  10.8/10.9 MB 5.1 MB/s eta 0:00:01\n",
      "   ---------------------------------------  10.9/10.9 MB 5.0 MB/s eta 0:00:01\n",
      "   ---------------------------------------- 10.9/10.9 MB 4.9 MB/s eta 0:00:00\n",
      "Downloading joblib-1.4.2-py3-none-any.whl (301 kB)\n",
      "   ---------------------------------------- 0.0/301.8 kB ? eta -:--:--\n",
      "   ------------------------------- -------- 235.5/301.8 kB 7.0 MB/s eta 0:00:01\n",
      "   ---------------------------------------- 301.8/301.8 kB 6.2 MB/s eta 0:00:00\n",
      "Downloading scipy-1.13.1-cp312-cp312-win_amd64.whl (45.9 MB)\n",
      "   ---------------------------------------- 0.0/45.9 MB ? eta -:--:--\n",
      "   ---------------------------------------- 0.2/45.9 MB 6.9 MB/s eta 0:00:07\n",
      "   ---------------------------------------- 0.4/45.9 MB 5.4 MB/s eta 0:00:09\n",
      "    --------------------------------------- 0.7/45.9 MB 5.2 MB/s eta 0:00:09\n",
      "    --------------------------------------- 0.8/45.9 MB 4.9 MB/s eta 0:00:10\n",
      "    --------------------------------------- 1.1/45.9 MB 4.9 MB/s eta 0:00:10\n",
      "   - -------------------------------------- 1.3/45.9 MB 4.9 MB/s eta 0:00:10\n",
      "   - -------------------------------------- 1.5/45.9 MB 4.9 MB/s eta 0:00:10\n",
      "   - -------------------------------------- 1.8/45.9 MB 4.9 MB/s eta 0:00:09\n",
      "   - -------------------------------------- 2.0/45.9 MB 4.9 MB/s eta 0:00:09\n",
      "   -- ------------------------------------- 2.3/45.9 MB 5.1 MB/s eta 0:00:09\n",
      "   -- ------------------------------------- 2.6/45.9 MB 5.1 MB/s eta 0:00:09\n",
      "   -- ------------------------------------- 2.9/45.9 MB 5.2 MB/s eta 0:00:09\n",
      "   -- ------------------------------------- 3.2/45.9 MB 5.3 MB/s eta 0:00:09\n",
      "   -- ------------------------------------- 3.4/45.9 MB 5.4 MB/s eta 0:00:08\n",
      "   --- ------------------------------------ 3.7/45.9 MB 5.6 MB/s eta 0:00:08\n",
      "   --- ------------------------------------ 4.0/45.9 MB 5.6 MB/s eta 0:00:08\n",
      "   --- ------------------------------------ 4.4/45.9 MB 5.6 MB/s eta 0:00:08\n",
      "   ---- ----------------------------------- 4.7/45.9 MB 5.7 MB/s eta 0:00:08\n",
      "   ---- ----------------------------------- 5.0/45.9 MB 5.8 MB/s eta 0:00:08\n",
      "   ---- ----------------------------------- 5.3/45.9 MB 5.8 MB/s eta 0:00:07\n",
      "   ---- ----------------------------------- 5.6/45.9 MB 5.9 MB/s eta 0:00:07\n",
      "   ----- ---------------------------------- 5.9/45.9 MB 5.9 MB/s eta 0:00:07\n",
      "   ----- ---------------------------------- 6.1/45.9 MB 5.8 MB/s eta 0:00:07\n",
      "   ----- ---------------------------------- 6.3/45.9 MB 5.7 MB/s eta 0:00:07\n",
      "   ----- ---------------------------------- 6.6/45.9 MB 5.8 MB/s eta 0:00:07\n",
      "   ----- ---------------------------------- 6.8/45.9 MB 5.7 MB/s eta 0:00:07\n",
      "   ------ --------------------------------- 7.0/45.9 MB 5.6 MB/s eta 0:00:07\n",
      "   ------ --------------------------------- 7.2/45.9 MB 5.6 MB/s eta 0:00:07\n",
      "   ------ --------------------------------- 7.5/45.9 MB 5.6 MB/s eta 0:00:07\n",
      "   ------ --------------------------------- 7.8/45.9 MB 5.6 MB/s eta 0:00:07\n",
      "   ------ --------------------------------- 8.0/45.9 MB 5.6 MB/s eta 0:00:07\n",
      "   ------- -------------------------------- 8.3/45.9 MB 5.6 MB/s eta 0:00:07\n",
      "   ------- -------------------------------- 8.5/45.9 MB 5.6 MB/s eta 0:00:07\n",
      "   ------- -------------------------------- 8.8/45.9 MB 5.6 MB/s eta 0:00:07\n",
      "   ------- -------------------------------- 9.1/45.9 MB 5.7 MB/s eta 0:00:07\n",
      "   -------- ------------------------------- 9.5/45.9 MB 5.7 MB/s eta 0:00:07\n",
      "   -------- ------------------------------- 9.8/45.9 MB 5.8 MB/s eta 0:00:07\n",
      "   -------- ------------------------------- 10.2/45.9 MB 5.8 MB/s eta 0:00:07\n",
      "   --------- ------------------------------ 10.6/45.9 MB 5.8 MB/s eta 0:00:07\n",
      "   --------- ------------------------------ 10.9/45.9 MB 6.0 MB/s eta 0:00:06\n",
      "   --------- ------------------------------ 11.3/45.9 MB 6.1 MB/s eta 0:00:06\n",
      "   ---------- ----------------------------- 11.7/45.9 MB 6.2 MB/s eta 0:00:06\n",
      "   ---------- ----------------------------- 12.1/45.9 MB 6.4 MB/s eta 0:00:06\n",
      "   ---------- ----------------------------- 12.4/45.9 MB 6.4 MB/s eta 0:00:06\n",
      "   ---------- ----------------------------- 12.5/45.9 MB 6.4 MB/s eta 0:00:06\n",
      "   ----------- ---------------------------- 12.8/45.9 MB 6.3 MB/s eta 0:00:06\n",
      "   ----------- ---------------------------- 13.0/45.9 MB 6.2 MB/s eta 0:00:06\n",
      "   ----------- ---------------------------- 13.2/45.9 MB 6.2 MB/s eta 0:00:06\n",
      "   ----------- ---------------------------- 13.4/45.9 MB 6.2 MB/s eta 0:00:06\n",
      "   ----------- ---------------------------- 13.7/45.9 MB 6.2 MB/s eta 0:00:06\n",
      "   ------------ --------------------------- 13.9/45.9 MB 6.1 MB/s eta 0:00:06\n",
      "   ------------ --------------------------- 14.1/45.9 MB 6.1 MB/s eta 0:00:06\n",
      "   ------------ --------------------------- 14.3/45.9 MB 6.0 MB/s eta 0:00:06\n",
      "   ------------ --------------------------- 14.5/45.9 MB 6.0 MB/s eta 0:00:06\n",
      "   ------------ --------------------------- 14.8/45.9 MB 5.9 MB/s eta 0:00:06\n",
      "   ------------- -------------------------- 15.0/45.9 MB 5.9 MB/s eta 0:00:06\n",
      "   ------------- -------------------------- 15.1/45.9 MB 5.9 MB/s eta 0:00:06\n",
      "   ------------- -------------------------- 15.2/45.9 MB 5.6 MB/s eta 0:00:06\n",
      "   ------------- -------------------------- 15.4/45.9 MB 5.6 MB/s eta 0:00:06\n",
      "   ------------- -------------------------- 15.6/45.9 MB 5.6 MB/s eta 0:00:06\n",
      "   ------------- -------------------------- 15.9/45.9 MB 5.5 MB/s eta 0:00:06\n",
      "   -------------- ------------------------- 16.1/45.9 MB 5.5 MB/s eta 0:00:06\n",
      "   -------------- ------------------------- 16.3/45.9 MB 5.5 MB/s eta 0:00:06\n",
      "   -------------- ------------------------- 16.6/45.9 MB 5.6 MB/s eta 0:00:06\n",
      "   -------------- ------------------------- 16.9/45.9 MB 5.5 MB/s eta 0:00:06\n",
      "   -------------- ------------------------- 17.1/45.9 MB 5.6 MB/s eta 0:00:06\n",
      "   --------------- ------------------------ 17.3/45.9 MB 5.6 MB/s eta 0:00:06\n",
      "   --------------- ------------------------ 17.5/45.9 MB 5.5 MB/s eta 0:00:06\n",
      "   --------------- ------------------------ 17.7/45.9 MB 5.5 MB/s eta 0:00:06\n",
      "   --------------- ------------------------ 18.0/45.9 MB 5.5 MB/s eta 0:00:06\n",
      "   --------------- ------------------------ 18.2/45.9 MB 5.5 MB/s eta 0:00:06\n",
      "   ---------------- ----------------------- 18.5/45.9 MB 5.5 MB/s eta 0:00:05\n",
      "   ---------------- ----------------------- 18.8/45.9 MB 5.5 MB/s eta 0:00:05\n",
      "   ---------------- ----------------------- 19.0/45.9 MB 5.5 MB/s eta 0:00:05\n",
      "   ---------------- ----------------------- 19.3/45.9 MB 5.5 MB/s eta 0:00:05\n",
      "   ----------------- ---------------------- 19.5/45.9 MB 5.5 MB/s eta 0:00:05\n",
      "   ----------------- ---------------------- 19.8/45.9 MB 5.4 MB/s eta 0:00:05\n",
      "   ----------------- ---------------------- 20.1/45.9 MB 5.4 MB/s eta 0:00:05\n",
      "   ----------------- ---------------------- 20.4/45.9 MB 5.4 MB/s eta 0:00:05\n",
      "   ------------------ --------------------- 20.7/45.9 MB 5.3 MB/s eta 0:00:05\n",
      "   ------------------ --------------------- 21.0/45.9 MB 5.4 MB/s eta 0:00:05\n",
      "   ------------------ --------------------- 21.3/45.9 MB 5.3 MB/s eta 0:00:05\n",
      "   ------------------ --------------------- 21.6/45.9 MB 5.3 MB/s eta 0:00:05\n",
      "   ------------------- -------------------- 21.9/45.9 MB 5.3 MB/s eta 0:00:05\n",
      "   ------------------- -------------------- 22.3/45.9 MB 5.2 MB/s eta 0:00:05\n",
      "   ------------------- -------------------- 22.6/45.9 MB 5.2 MB/s eta 0:00:05\n",
      "   ------------------- -------------------- 22.8/45.9 MB 5.3 MB/s eta 0:00:05\n",
      "   -------------------- ------------------- 23.0/45.9 MB 5.3 MB/s eta 0:00:05\n",
      "   -------------------- ------------------- 23.3/45.9 MB 5.3 MB/s eta 0:00:05\n",
      "   -------------------- ------------------- 23.5/45.9 MB 5.3 MB/s eta 0:00:05\n",
      "   -------------------- ------------------- 23.8/45.9 MB 5.3 MB/s eta 0:00:05\n",
      "   -------------------- ------------------- 24.1/45.9 MB 5.4 MB/s eta 0:00:05\n",
      "   --------------------- ------------------ 24.3/45.9 MB 5.4 MB/s eta 0:00:05\n",
      "   --------------------- ------------------ 24.6/45.9 MB 5.4 MB/s eta 0:00:04\n",
      "   --------------------- ------------------ 24.8/45.9 MB 5.4 MB/s eta 0:00:04\n",
      "   --------------------- ------------------ 25.1/45.9 MB 5.4 MB/s eta 0:00:04\n",
      "   ---------------------- ----------------- 25.5/45.9 MB 5.7 MB/s eta 0:00:04\n",
      "   ---------------------- ----------------- 25.8/45.9 MB 5.7 MB/s eta 0:00:04\n",
      "   ---------------------- ----------------- 26.1/45.9 MB 5.8 MB/s eta 0:00:04\n",
      "   ----------------------- ---------------- 26.4/45.9 MB 5.8 MB/s eta 0:00:04\n",
      "   ----------------------- ---------------- 26.8/45.9 MB 5.9 MB/s eta 0:00:04\n",
      "   ----------------------- ---------------- 27.1/45.9 MB 6.0 MB/s eta 0:00:04\n",
      "   ----------------------- ---------------- 27.5/45.9 MB 6.2 MB/s eta 0:00:03\n",
      "   ------------------------ --------------- 27.9/45.9 MB 6.3 MB/s eta 0:00:03\n",
      "   ------------------------ --------------- 28.1/45.9 MB 6.2 MB/s eta 0:00:03\n",
      "   ------------------------ --------------- 28.5/45.9 MB 6.4 MB/s eta 0:00:03\n",
      "   ------------------------- -------------- 28.9/45.9 MB 6.4 MB/s eta 0:00:03\n",
      "   ------------------------- -------------- 29.2/45.9 MB 6.5 MB/s eta 0:00:03\n",
      "   ------------------------- -------------- 29.3/45.9 MB 6.5 MB/s eta 0:00:03\n",
      "   ------------------------- -------------- 29.6/45.9 MB 6.5 MB/s eta 0:00:03\n",
      "   ------------------------- -------------- 29.8/45.9 MB 6.4 MB/s eta 0:00:03\n",
      "   -------------------------- ------------- 30.0/45.9 MB 6.3 MB/s eta 0:00:03\n",
      "   -------------------------- ------------- 30.2/45.9 MB 6.2 MB/s eta 0:00:03\n",
      "   -------------------------- ------------- 30.4/45.9 MB 6.2 MB/s eta 0:00:03\n",
      "   -------------------------- ------------- 30.6/45.9 MB 6.1 MB/s eta 0:00:03\n",
      "   -------------------------- ------------- 30.8/45.9 MB 6.1 MB/s eta 0:00:03\n",
      "   -------------------------- ------------- 31.0/45.9 MB 6.0 MB/s eta 0:00:03\n",
      "   --------------------------- ------------ 31.2/45.9 MB 6.0 MB/s eta 0:00:03\n",
      "   --------------------------- ------------ 31.4/45.9 MB 5.9 MB/s eta 0:00:03\n",
      "   --------------------------- ------------ 31.6/45.9 MB 5.8 MB/s eta 0:00:03\n",
      "   --------------------------- ------------ 31.9/45.9 MB 5.8 MB/s eta 0:00:03\n",
      "   --------------------------- ------------ 32.1/45.9 MB 5.8 MB/s eta 0:00:03\n",
      "   ---------------------------- ----------- 32.3/45.9 MB 5.7 MB/s eta 0:00:03\n",
      "   ---------------------------- ----------- 32.4/45.9 MB 5.8 MB/s eta 0:00:03\n",
      "   ---------------------------- ----------- 32.5/45.9 MB 5.5 MB/s eta 0:00:03\n",
      "   ---------------------------- ----------- 32.6/45.9 MB 5.5 MB/s eta 0:00:03\n",
      "   ---------------------------- ----------- 32.9/45.9 MB 5.4 MB/s eta 0:00:03\n",
      "   ---------------------------- ----------- 33.1/45.9 MB 5.4 MB/s eta 0:00:03\n",
      "   ----------------------------- ---------- 33.4/45.9 MB 5.4 MB/s eta 0:00:03\n",
      "   ----------------------------- ---------- 33.6/45.9 MB 5.4 MB/s eta 0:00:03\n",
      "   ----------------------------- ---------- 33.7/45.9 MB 5.4 MB/s eta 0:00:03\n",
      "   ----------------------------- ---------- 33.9/45.9 MB 5.4 MB/s eta 0:00:03\n",
      "   ----------------------------- ---------- 34.1/45.9 MB 5.3 MB/s eta 0:00:03\n",
      "   ----------------------------- ---------- 34.3/45.9 MB 5.2 MB/s eta 0:00:03\n",
      "   ------------------------------ --------- 34.5/45.9 MB 5.3 MB/s eta 0:00:03\n",
      "   ------------------------------ --------- 34.8/45.9 MB 5.3 MB/s eta 0:00:03\n",
      "   ------------------------------ --------- 35.0/45.9 MB 5.3 MB/s eta 0:00:03\n",
      "   ------------------------------ --------- 35.3/45.9 MB 5.2 MB/s eta 0:00:03\n",
      "   ------------------------------ --------- 35.5/45.9 MB 5.2 MB/s eta 0:00:02\n",
      "   ------------------------------- -------- 35.7/45.9 MB 5.2 MB/s eta 0:00:02\n",
      "   ------------------------------- -------- 36.0/45.9 MB 5.2 MB/s eta 0:00:02\n",
      "   ------------------------------- -------- 36.2/45.9 MB 5.1 MB/s eta 0:00:02\n",
      "   ------------------------------- -------- 36.4/45.9 MB 5.1 MB/s eta 0:00:02\n",
      "   ------------------------------- -------- 36.7/45.9 MB 5.0 MB/s eta 0:00:02\n",
      "   -------------------------------- ------- 36.9/45.9 MB 5.0 MB/s eta 0:00:02\n",
      "   -------------------------------- ------- 37.2/45.9 MB 5.0 MB/s eta 0:00:02\n",
      "   -------------------------------- ------- 37.4/45.9 MB 4.9 MB/s eta 0:00:02\n",
      "   -------------------------------- ------- 37.7/45.9 MB 4.9 MB/s eta 0:00:02\n",
      "   --------------------------------- ------ 38.0/45.9 MB 4.9 MB/s eta 0:00:02\n",
      "   --------------------------------- ------ 38.3/45.9 MB 4.9 MB/s eta 0:00:02\n",
      "   --------------------------------- ------ 38.5/45.9 MB 4.9 MB/s eta 0:00:02\n",
      "   --------------------------------- ------ 38.7/45.9 MB 4.8 MB/s eta 0:00:02\n",
      "   --------------------------------- ------ 38.9/45.9 MB 4.7 MB/s eta 0:00:02\n",
      "   ---------------------------------- ----- 39.2/45.9 MB 4.7 MB/s eta 0:00:02\n",
      "   ---------------------------------- ----- 39.4/45.9 MB 4.7 MB/s eta 0:00:02\n",
      "   ---------------------------------- ----- 39.7/45.9 MB 4.7 MB/s eta 0:00:02\n",
      "   ---------------------------------- ----- 39.9/45.9 MB 4.7 MB/s eta 0:00:02\n",
      "   ----------------------------------- ---- 40.2/45.9 MB 4.8 MB/s eta 0:00:02\n",
      "   ----------------------------------- ---- 40.5/45.9 MB 4.8 MB/s eta 0:00:02\n",
      "   ----------------------------------- ---- 40.8/45.9 MB 4.9 MB/s eta 0:00:02\n",
      "   ----------------------------------- ---- 41.1/45.9 MB 5.0 MB/s eta 0:00:01\n",
      "   ------------------------------------ --- 41.4/45.9 MB 5.0 MB/s eta 0:00:01\n",
      "   ------------------------------------ --- 41.7/45.9 MB 5.1 MB/s eta 0:00:01\n",
      "   ------------------------------------ --- 42.1/45.9 MB 5.1 MB/s eta 0:00:01\n",
      "   ------------------------------------ --- 42.4/45.9 MB 5.2 MB/s eta 0:00:01\n",
      "   ------------------------------------- -- 42.7/45.9 MB 5.4 MB/s eta 0:00:01\n",
      "   ------------------------------------- -- 42.8/45.9 MB 5.3 MB/s eta 0:00:01\n",
      "   ------------------------------------- -- 42.8/45.9 MB 5.2 MB/s eta 0:00:01\n",
      "   ------------------------------------- -- 43.0/45.9 MB 5.2 MB/s eta 0:00:01\n",
      "   ------------------------------------- -- 43.1/45.9 MB 5.1 MB/s eta 0:00:01\n",
      "   ------------------------------------- -- 43.1/45.9 MB 5.0 MB/s eta 0:00:01\n",
      "   ------------------------------------- -- 43.2/45.9 MB 5.0 MB/s eta 0:00:01\n",
      "   ------------------------------------- -- 43.3/45.9 MB 4.9 MB/s eta 0:00:01\n",
      "   ------------------------------------- -- 43.4/45.9 MB 4.9 MB/s eta 0:00:01\n",
      "   ------------------------------------- -- 43.5/45.9 MB 4.7 MB/s eta 0:00:01\n",
      "   ------------------------------------- -- 43.6/45.9 MB 4.7 MB/s eta 0:00:01\n",
      "   -------------------------------------- - 43.7/45.9 MB 4.6 MB/s eta 0:00:01\n",
      "   -------------------------------------- - 43.7/45.9 MB 4.6 MB/s eta 0:00:01\n",
      "   -------------------------------------- - 43.8/45.9 MB 4.5 MB/s eta 0:00:01\n",
      "   -------------------------------------- - 43.8/45.9 MB 4.5 MB/s eta 0:00:01\n",
      "   -------------------------------------- - 43.8/45.9 MB 4.3 MB/s eta 0:00:01\n",
      "   -------------------------------------- - 43.9/45.9 MB 4.3 MB/s eta 0:00:01\n",
      "   -------------------------------------- - 43.9/45.9 MB 4.3 MB/s eta 0:00:01\n",
      "   -------------------------------------- - 44.0/45.9 MB 4.2 MB/s eta 0:00:01\n",
      "   -------------------------------------- - 44.2/45.9 MB 4.2 MB/s eta 0:00:01\n",
      "   -------------------------------------- - 44.5/45.9 MB 4.2 MB/s eta 0:00:01\n",
      "   ---------------------------------------  44.8/45.9 MB 4.3 MB/s eta 0:00:01\n",
      "   ---------------------------------------  45.1/45.9 MB 4.3 MB/s eta 0:00:01\n",
      "   ---------------------------------------  45.5/45.9 MB 4.3 MB/s eta 0:00:01\n",
      "   ---------------------------------------  45.9/45.9 MB 4.4 MB/s eta 0:00:01\n",
      "   ---------------------------------------  45.9/45.9 MB 4.4 MB/s eta 0:00:01\n",
      "   ---------------------------------------  45.9/45.9 MB 4.4 MB/s eta 0:00:01\n",
      "   ---------------------------------------  45.9/45.9 MB 4.4 MB/s eta 0:00:01\n",
      "   ---------------------------------------  45.9/45.9 MB 4.4 MB/s eta 0:00:01\n",
      "   ---------------------------------------- 45.9/45.9 MB 4.0 MB/s eta 0:00:00\n",
      "Downloading threadpoolctl-3.5.0-py3-none-any.whl (18 kB)\n",
      "Installing collected packages: threadpoolctl, scipy, joblib, scikit-learn\n",
      "Successfully installed joblib-1.4.2 scikit-learn-1.5.0 scipy-1.13.1 threadpoolctl-3.5.0\n"
     ]
    }
   ],
   "source": [
    "!pip install scikit-learn\n"
   ]
  },
  {
   "cell_type": "code",
   "execution_count": 46,
   "id": "e310299f-3c1f-429c-8da0-ce6a1a00b73d",
   "metadata": {},
   "outputs": [],
   "source": [
    "from sklearn.model_selection import train_test_split\n",
    "X_train, X_test, y_train, y_test = train_test_split(X, y, test_size = 0.2, random_state=42)"
   ]
  },
  {
   "cell_type": "code",
   "execution_count": 47,
   "id": "8bdddecc-edb5-4460-abe3-d2f6410e320b",
   "metadata": {},
   "outputs": [
    {
     "data": {
      "text/plain": [
       "(1760, 7)"
      ]
     },
     "execution_count": 47,
     "metadata": {},
     "output_type": "execute_result"
    }
   ],
   "source": [
    "X_train.shape"
   ]
  },
  {
   "cell_type": "code",
   "execution_count": 48,
   "id": "7dd8f35b-15ca-4efd-a0d9-a589e7e01c3e",
   "metadata": {},
   "outputs": [],
   "source": [
    "from sklearn.preprocessing import MinMaxScaler\n",
    "mx = MinMaxScaler()\n",
    "X_train = mx.fit_transform(X_train)\n",
    "X_test = mx.transform(X_test)"
   ]
  },
  {
   "cell_type": "code",
   "execution_count": 49,
   "id": "ae71528f-fd09-48b9-9d8a-19d9e2e67a89",
   "metadata": {},
   "outputs": [
    {
     "data": {
      "text/plain": [
       "array([[0.12142857, 0.07857143, 0.045     , ..., 0.9089898 , 0.48532225,\n",
       "        0.29685161],\n",
       "       [0.26428571, 0.52857143, 0.07      , ..., 0.64257946, 0.56594073,\n",
       "        0.17630752],\n",
       "       [0.05      , 0.48571429, 0.1       , ..., 0.57005802, 0.58835229,\n",
       "        0.08931844],\n",
       "       ...,\n",
       "       [0.07857143, 0.22142857, 0.13      , ..., 0.43760347, 0.46198144,\n",
       "        0.28719815],\n",
       "       [0.07857143, 0.85      , 0.995     , ..., 0.76763665, 0.44420505,\n",
       "        0.18346657],\n",
       "       [0.22857143, 0.52142857, 0.085     , ..., 0.56099735, 0.54465022,\n",
       "        0.11879596]])"
      ]
     },
     "execution_count": 49,
     "metadata": {},
     "output_type": "execute_result"
    }
   ],
   "source": [
    "X_train"
   ]
  },
  {
   "cell_type": "code",
   "execution_count": 50,
   "id": "b0301a02-7999-4c86-9c7f-085de0ae81b3",
   "metadata": {},
   "outputs": [],
   "source": [
    "from sklearn.preprocessing import StandardScaler\n",
    "sc = StandardScaler()\n",
    "sc.fit(X_train)\n",
    "X_train = sc.transform(X_train)\n",
    "X_test=sc.transform(X_test)"
   ]
  },
  {
   "cell_type": "code",
   "execution_count": 51,
   "id": "3fe8c640-1ac1-48f3-b13e-235113a8f0ad",
   "metadata": {},
   "outputs": [],
   "source": [
    "from sklearn.linear_model import LogisticRegression\n",
    "from sklearn.naive_bayes import GaussianNB\n",
    "from sklearn.svm import SVC\n",
    "from sklearn.neighbors import KNeighborsClassifier\n",
    "from sklearn.tree import DecisionTreeClassifier, ExtraTreeClassifier\n",
    "from sklearn.ensemble import RandomForestClassifier, BaggingClassifier, GradientBoostingClassifier, AdaBoostClassifier\n",
    "from sklearn.metrics import accuracy_score"
   ]
  },
  {
   "cell_type": "code",
   "execution_count": 52,
   "id": "8de0ef72-3f15-40aa-94f9-1d900e3af80b",
   "metadata": {},
   "outputs": [],
   "source": [
    "models = {\n",
    "    'LogisticRegression': LogisticRegression(),\n",
    "    'GaussianNB':GaussianNB(),\n",
    "    'SVC':SVC(),\n",
    "    'KNeighborsClassifier':KNeighborsClassifier(),\n",
    "    'DecisionTreeClassifier':DecisionTreeClassifier(),\n",
    "    'ExtraTreeClassifier':ExtraTreeClassifier(),\n",
    "    'RandomForestClassifier':RandomForestClassifier(),\n",
    "    'BaggingClassifier':BaggingClassifier(),\n",
    "    'GradientBoostingClassifier':GradientBoostingClassifier(),\n",
    "    'AdaBoostClassifier':AdaBoostClassifier()\n",
    "}"
   ]
  },
  {
   "cell_type": "code",
   "execution_count": 53,
   "id": "53620efa-a2fe-4368-b468-008f1d347044",
   "metadata": {},
   "outputs": [
    {
     "name": "stdout",
     "output_type": "stream",
     "text": [
      "LogisticRegression model with accuracy: 0.9636363636363636\n",
      "GaussianNB model with accuracy: 0.9954545454545455\n",
      "SVC model with accuracy: 0.9681818181818181\n",
      "KNeighborsClassifier model with accuracy: 0.9590909090909091\n",
      "DecisionTreeClassifier model with accuracy: 0.9818181818181818\n",
      "ExtraTreeClassifier model with accuracy: 0.8954545454545455\n",
      "RandomForestClassifier model with accuracy: 0.9954545454545455\n",
      "BaggingClassifier model with accuracy: 0.9886363636363636\n",
      "GradientBoostingClassifier model with accuracy: 0.9818181818181818\n"
     ]
    },
    {
     "name": "stderr",
     "output_type": "stream",
     "text": [
      "C:\\Users\\DELL\\AppData\\Local\\Programs\\Python\\Python312\\Lib\\site-packages\\sklearn\\ensemble\\_weight_boosting.py:527: FutureWarning: The SAMME.R algorithm (the default) is deprecated and will be removed in 1.6. Use the SAMME algorithm to circumvent this warning.\n",
      "  warnings.warn(\n"
     ]
    },
    {
     "name": "stdout",
     "output_type": "stream",
     "text": [
      "AdaBoostClassifier model with accuracy: 0.09545454545454546\n"
     ]
    }
   ],
   "source": [
    "for name, model in models.items():\n",
    "    model.fit(X_train, y_train)\n",
    "    y_pred = model.predict(X_test)\n",
    "    score = accuracy_score(y_test, y_pred)\n",
    "    print(f\"{name} model with accuracy: {score}\")"
   ]
  },
  {
   "cell_type": "code",
   "execution_count": 54,
   "id": "d1f88741-47e3-48dc-9d08-044c2831f02f",
   "metadata": {},
   "outputs": [
    {
     "data": {
      "text/plain": [
       "0.9931818181818182"
      ]
     },
     "execution_count": 54,
     "metadata": {},
     "output_type": "execute_result"
    }
   ],
   "source": [
    "randclf = RandomForestClassifier()\n",
    "randclf.fit(X_train, y_train)\n",
    "y_pred = randclf.predict(X_test)\n",
    "accuracy_score(y_test, y_pred)"
   ]
  },
  {
   "cell_type": "code",
   "execution_count": 55,
   "id": "82678138-9b85-4ae0-b6d1-061d4a435402",
   "metadata": {},
   "outputs": [
    {
     "data": {
      "text/plain": [
       "Index(['N', 'P', 'K', 'temperature', 'humidity', 'ph', 'rainfall', 'label'], dtype='object')"
      ]
     },
     "execution_count": 55,
     "metadata": {},
     "output_type": "execute_result"
    }
   ],
   "source": [
    "crop.columns"
   ]
  },
  {
   "cell_type": "code",
   "execution_count": 56,
   "id": "f0544798-d18b-4b71-b233-9058c445d663",
   "metadata": {},
   "outputs": [],
   "source": [
    "def recommendation(N,P,K,temperature,humidity,ph,rainfall):\n",
    "    features = np.array([[N,P,K,temperature,humidity,ph,rainfall]])\n",
    "    mx_features = mx.fit_transform(features)\n",
    "    sc_mx_features = sc.fit_transform(mx_features)\n",
    "    prediction = randclf.predict(sc_mx_features).reshape(1,-1)\n",
    "    return prediction[0]"
   ]
  },
  {
   "cell_type": "code",
   "execution_count": 57,
   "id": "c7e45d26-dc0d-4e0a-842d-395d23d9459e",
   "metadata": {},
   "outputs": [
    {
     "data": {
      "text/html": [
       "<div>\n",
       "<style scoped>\n",
       "    .dataframe tbody tr th:only-of-type {\n",
       "        vertical-align: middle;\n",
       "    }\n",
       "\n",
       "    .dataframe tbody tr th {\n",
       "        vertical-align: top;\n",
       "    }\n",
       "\n",
       "    .dataframe thead th {\n",
       "        text-align: right;\n",
       "    }\n",
       "</style>\n",
       "<table border=\"1\" class=\"dataframe\">\n",
       "  <thead>\n",
       "    <tr style=\"text-align: right;\">\n",
       "      <th></th>\n",
       "      <th>N</th>\n",
       "      <th>P</th>\n",
       "      <th>K</th>\n",
       "      <th>temperature</th>\n",
       "      <th>humidity</th>\n",
       "      <th>ph</th>\n",
       "      <th>rainfall</th>\n",
       "      <th>label</th>\n",
       "    </tr>\n",
       "  </thead>\n",
       "  <tbody>\n",
       "    <tr>\n",
       "      <th>0</th>\n",
       "      <td>90</td>\n",
       "      <td>42</td>\n",
       "      <td>43</td>\n",
       "      <td>20.879744</td>\n",
       "      <td>82.002744</td>\n",
       "      <td>6.502985</td>\n",
       "      <td>202.935536</td>\n",
       "      <td>1</td>\n",
       "    </tr>\n",
       "    <tr>\n",
       "      <th>1</th>\n",
       "      <td>85</td>\n",
       "      <td>58</td>\n",
       "      <td>41</td>\n",
       "      <td>21.770462</td>\n",
       "      <td>80.319644</td>\n",
       "      <td>7.038096</td>\n",
       "      <td>226.655537</td>\n",
       "      <td>1</td>\n",
       "    </tr>\n",
       "    <tr>\n",
       "      <th>2</th>\n",
       "      <td>60</td>\n",
       "      <td>55</td>\n",
       "      <td>44</td>\n",
       "      <td>23.004459</td>\n",
       "      <td>82.320763</td>\n",
       "      <td>7.840207</td>\n",
       "      <td>263.964248</td>\n",
       "      <td>1</td>\n",
       "    </tr>\n",
       "    <tr>\n",
       "      <th>3</th>\n",
       "      <td>74</td>\n",
       "      <td>35</td>\n",
       "      <td>40</td>\n",
       "      <td>26.491096</td>\n",
       "      <td>80.158363</td>\n",
       "      <td>6.980401</td>\n",
       "      <td>242.864034</td>\n",
       "      <td>1</td>\n",
       "    </tr>\n",
       "    <tr>\n",
       "      <th>4</th>\n",
       "      <td>78</td>\n",
       "      <td>42</td>\n",
       "      <td>42</td>\n",
       "      <td>20.130175</td>\n",
       "      <td>81.604873</td>\n",
       "      <td>7.628473</td>\n",
       "      <td>262.717340</td>\n",
       "      <td>1</td>\n",
       "    </tr>\n",
       "  </tbody>\n",
       "</table>\n",
       "</div>"
      ],
      "text/plain": [
       "    N   P   K  temperature   humidity        ph    rainfall  label\n",
       "0  90  42  43    20.879744  82.002744  6.502985  202.935536      1\n",
       "1  85  58  41    21.770462  80.319644  7.038096  226.655537      1\n",
       "2  60  55  44    23.004459  82.320763  7.840207  263.964248      1\n",
       "3  74  35  40    26.491096  80.158363  6.980401  242.864034      1\n",
       "4  78  42  42    20.130175  81.604873  7.628473  262.717340      1"
      ]
     },
     "execution_count": 57,
     "metadata": {},
     "output_type": "execute_result"
    }
   ],
   "source": [
    "crop.head()"
   ]
  },
  {
   "cell_type": "code",
   "execution_count": 58,
   "id": "07423db8-14e1-46b1-bb9a-b4409ca87a1c",
   "metadata": {},
   "outputs": [],
   "source": [
    "N=90\n",
    "P= 42\n",
    "K= 43\n",
    "temperature= 20.879744\n",
    "humidity=82.002744\n",
    "ph=6.502985\n",
    "rainfall=202.935536\n",
    "\n",
    "predict = recommendation(N,P,K,temperature,humidity,ph,rainfall)"
   ]
  },
  {
   "cell_type": "code",
   "execution_count": 59,
   "id": "00632308-5bba-4db3-b74f-854efe2f2b8b",
   "metadata": {},
   "outputs": [
    {
     "data": {
      "text/plain": [
       "array([6])"
      ]
     },
     "execution_count": 59,
     "metadata": {},
     "output_type": "execute_result"
    }
   ],
   "source": [
    "predict"
   ]
  },
  {
   "cell_type": "code",
   "execution_count": 60,
   "id": "33cc3b48-6ba8-4c40-a8e5-df8cc956c7d6",
   "metadata": {},
   "outputs": [],
   "source": [
    "import pickle\n",
    "pickle.dump(randclf, open('model.pkl', 'wb'))\n",
    "pickle.dump(mx, open('minmaxscaler.pkl', 'wb'))\n",
    "pickle.dump(sc, open('standscaler.pkl', 'wb'))\n"
   ]
  },
  {
   "cell_type": "code",
   "execution_count": null,
   "id": "cc5b7352-f7b9-4c32-8d4c-642ba55c3c01",
   "metadata": {},
   "outputs": [],
   "source": []
  }
 ],
 "metadata": {
  "kernelspec": {
   "display_name": "Python 3 (ipykernel)",
   "language": "python",
   "name": "python3"
  },
  "language_info": {
   "codemirror_mode": {
    "name": "ipython",
    "version": 3
   },
   "file_extension": ".py",
   "mimetype": "text/x-python",
   "name": "python",
   "nbconvert_exporter": "python",
   "pygments_lexer": "ipython3",
   "version": "3.12.4"
  }
 },
 "nbformat": 4,
 "nbformat_minor": 5
}
